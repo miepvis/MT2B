{
 "cells": [
  {
   "cell_type": "markdown",
   "id": "dc312d70",
   "metadata": {},
   "source": [
    "# Methoden en Technieken -- Blok 2\n",
    "\n",
    "## Datapunt Opdracht\n",
    "\n",
    "In deze opdracht worden de volgende leeruitkomsten getoetst, relevante termen zijn **dik** gedrukt:\n",
    "- B2: Je stelt op basis van requirements een **geschikte architectuur** voor een AI-oplossing op en selecteert daarvoor passende AI-technieken, gebruik makend van **machine learning**, **deep learning**, **kennisrepresentatie**, **computer vision** en natural language processing.\n",
    "- B3: Je prepareert een dataset voor het **trainen en testen** van een AI-model rekening houdend met technische en ethische randvoorwaarden.\n",
    "- B4: **Je ontwikkelt, traint en evalueert een AI-model** volgens een **iteratief proces**.\n",
    "- C2: **Je evalueert en beoordeelt de kwaliteit van een AI-model aan de hand van kwaliteitscriteria** die in het vakgebied erkend worden waaronder robustness, **performance**, scalability, explainability, model complexity en resource demand.\n",
    "\n",
    "## De opdracht\n",
    "\n",
    "In de slides van les 12 word beschreven hoe we een Deep Belief Netwerk unsupervised trainen op de MNIST data. \n",
    "\n",
    "In deze opdracht gaan we dit gebruiken om een MNIST classifier semi-supervised te trainen. We doen hier alsof slechts 500 van de 70000 MNIST afbeeldingen gelabeld zijn (zie code hieronder, deze maakt de data aan die je mag gebruiken). Je zult dus:\n",
    "- Een DBN unsupervised trainen op de data\n",
    "- Een classifier trainen op de latent space van de DBN en de gelabelde data\n",
    "\n",
    "Je mag zelf kiezen:\n",
    "- De architectuur van de DBN (let op, deze zal wat tijd kosten om te trainen)\n",
    "- De classifier op de latent space (alles is toegestaan)\n",
    "- Hoe je de modellen beoordeelt\n",
    "\n",
    "Probeer een zo'n goed mogelijk model te krijgen (in een redelijke tijd), verantwoord je keuzes. Bespreek je uiteindelijke model in detail, eerdere pogingen/modellen mogen korter besproken worden.\n"
   ]
  },
  {
   "cell_type": "code",
   "execution_count": 29,
   "id": "61a81390",
   "metadata": {},
   "outputs": [],
   "source": [
    "import numpy as np\n",
    "import matplotlib.pyplot as plt\n",
    "import pickle\n",
    "from tensorflow import keras\n",
    "from sklearn.model_selection import train_test_split \n",
    "from sklearn.neural_network import BernoulliRBM\n",
    "from ipywidgets import interactive\n",
    "import torch\n",
    "import torch.nn as nn\n",
    "from sklearn.metrics import classification_report, confusion_matrix\n",
    "import seaborn as sns\n",
    "import torch.nn.functional as F\n"
   ]
  },
  {
   "cell_type": "code",
   "execution_count": 30,
   "id": "27eac8b4",
   "metadata": {},
   "outputs": [],
   "source": [
    "(x1, y), (x2, _) = keras.datasets.mnist.load_data()\n",
    "x = np.concatenate((x1, x2))\n",
    "\n",
    "x = np.expand_dims(x, -1).astype(\"float32\") / 255\n",
    "\n",
    "y = y[:500]\n",
    "\n",
    "del x1, x2"
   ]
  },
  {
   "cell_type": "code",
   "execution_count": 31,
   "id": "16e61f29",
   "metadata": {},
   "outputs": [],
   "source": [
    "# Select the first 500 labels as labeled data\n",
    "labeled_x = x[:500]\n",
    "labeled_y = y[:500]\n",
    "\n",
    "# The rest are unlabeled data\n",
    "unlabeled_x = x[500:]"
   ]
  },
  {
   "cell_type": "markdown",
   "id": "e66b82f3",
   "metadata": {},
   "source": [
    "# Warning:\n",
    "\n",
    "If one classification report or confusion matrix gets updated, all of them change.\n",
    "\n",
    "This means that all the confusion matrices you see are the same as the one in the conclusion and do not contain information specific to the code they are associated with."
   ]
  },
  {
   "cell_type": "code",
   "execution_count": 194,
   "id": "3973dcd9",
   "metadata": {},
   "outputs": [],
   "source": [
    "X_labeled_train, x_labeled_remaining, y_labeled_train,  y_labeled_remaining = train_test_split(labeled_x, labeled_y, test_size=0.2, random_state = 42)\n",
    "X_labeled_validation, X_labeled_test,y_labeled_validation,  y_test = train_test_split(x_labeled_remaining, y_labeled_remaining, test_size=0.5, random_state = 42)\n",
    "y_labeled_train = keras.utils.to_categorical(y_labeled_train, 10)\n",
    "y_labeled_validation = keras.utils.to_categorical(y_labeled_validation, 10)\n",
    "y_labeled_test = keras.utils.to_categorical(y_test, 10)"
   ]
  },
  {
   "cell_type": "code",
   "execution_count": 195,
   "id": "00a0bd00",
   "metadata": {},
   "outputs": [
    {
     "data": {
      "image/png": "[encoded data removed]",
      "text/plain": [
       "<Figure size 1500x500 with 3 Axes>"
      ]
     },
     "metadata": {},
     "output_type": "display_data"
    }
   ],
   "source": [
    "import numpy as np\n",
    "import matplotlib.pyplot as plt\n",
    "\n",
    "# Assuming y_labeled_train, y_labeled_validation, and y_labeled_test are already defined and one-hot encoded\n",
    "\n",
    "# Convert one-hot encoded labels back to single integer labels\n",
    "y_train_labels = np.argmax(y_labeled_train, axis=1)\n",
    "y_val_labels = np.argmax(y_labeled_validation, axis=1)\n",
    "y_test_labels = np.argmax(y_labeled_test, axis=1)\n",
    "\n",
    "# Count the number of occurrences of each label\n",
    "train_label_counts = np.bincount(y_train_labels)\n",
    "val_label_counts = np.bincount(y_val_labels)\n",
    "test_label_counts = np.bincount(y_test_labels)\n",
    "\n",
    "# Define the labels\n",
    "labels = range(10)\n",
    "\n",
    "# Plot the label counts for each dataset\n",
    "plt.figure(figsize=(15, 5))\n",
    "\n",
    "plt.subplot(1, 3, 1)\n",
    "plt.bar(labels, train_label_counts, color='blue')\n",
    "plt.xlabel('Labels')\n",
    "plt.ylabel('Count')\n",
    "plt.title('Training Set Label Distribution')\n",
    "\n",
    "plt.subplot(1, 3, 2)\n",
    "plt.bar(labels, val_label_counts, color='green')\n",
    "plt.xlabel('Labels')\n",
    "plt.ylabel('Count')\n",
    "plt.title('Validation Set Label Distribution')\n",
    "\n",
    "plt.subplot(1, 3, 3)\n",
    "plt.bar(labels, test_label_counts, color='red')\n",
    "plt.xlabel('Labels')\n",
    "plt.ylabel('Count')\n",
    "plt.title('Test Set Label Distribution')\n",
    "\n",
    "plt.tight_layout()\n",
    "plt.show()"
   ]
  },
  {
   "cell_type": "markdown",
   "id": "0b522408",
   "metadata": {},
   "source": [
    "The data is niceley split, but some labels are a bit sparce so it a new and stratisfied split would be a good idea."
   ]
  },
  {
   "cell_type": "code",
   "execution_count": 196,
   "id": "e68f6528",
   "metadata": {},
   "outputs": [],
   "source": [
    "X_labeled_train, x_labeled_remaining, y_labeled_train,  y_labeled_remaining = train_test_split(labeled_x, labeled_y, test_size=0.2, random_state = 42, stratify=labeled_y)\n",
    "X_labeled_validation, X_labeled_test,y_labeled_validation,  y_test = train_test_split(x_labeled_remaining, y_labeled_remaining, test_size=0.5, random_state = 42, stratify=y_labeled_remaining)\n",
    "y_labeled_train = keras.utils.to_categorical(y_labeled_train, 10)\n",
    "y_labeled_validation = keras.utils.to_categorical(y_labeled_validation, 10)\n",
    "y_labeled_test = keras.utils.to_categorical(y_test, 10)"
   ]
  },
  {
   "cell_type": "code",
   "execution_count": 197,
   "id": "bf38f81d",
   "metadata": {},
   "outputs": [
    {
     "data": {
      "image/png": "[encoded data removed]",
      "text/plain": [
       "<Figure size 1500x500 with 3 Axes>"
      ]
     },
     "metadata": {},
     "output_type": "display_data"
    }
   ],
   "source": [
    "import numpy as np\n",
    "import matplotlib.pyplot as plt\n",
    "\n",
    "# Convert one-hot encoded labels back to single integer labels\n",
    "y_train_labels = np.argmax(y_labeled_train, axis=1)\n",
    "y_val_labels = np.argmax(y_labeled_validation, axis=1)\n",
    "y_test_labels = np.argmax(y_labeled_test, axis=1)\n",
    "\n",
    "# Count the number of occurrences of each label\n",
    "train_label_counts = np.bincount(y_train_labels)\n",
    "val_label_counts = np.bincount(y_val_labels)\n",
    "test_label_counts = np.bincount(y_test_labels)\n",
    "\n",
    "# Define the labels\n",
    "labels = range(10)\n",
    "\n",
    "# Plot the label counts for each dataset\n",
    "plt.figure(figsize=(15, 5))\n",
    "\n",
    "plt.subplot(1, 3, 1)\n",
    "plt.bar(labels, train_label_counts, color='blue')\n",
    "plt.xlabel('Labels')\n",
    "plt.ylabel('Count')\n",
    "plt.title('Training Set Label Distribution')\n",
    "\n",
    "plt.subplot(1, 3, 2)\n",
    "plt.bar(labels, val_label_counts, color='green')\n",
    "plt.xlabel('Labels')\n",
    "plt.ylabel('Count')\n",
    "plt.title('Validation Set Label Distribution')\n",
    "\n",
    "plt.subplot(1, 3, 3)\n",
    "plt.bar(labels, test_label_counts, color='red')\n",
    "plt.xlabel('Labels')\n",
    "plt.ylabel('Count')\n",
    "plt.title('Test Set Label Distribution')\n",
    "\n",
    "plt.tight_layout()\n",
    "plt.show()"
   ]
  },
  {
   "cell_type": "markdown",
   "id": "df7397a1",
   "metadata": {},
   "source": [
    "Not only is there plenty of data for each label now, the proportions of the labels is also the same in each dataset."
   ]
  },
  {
   "cell_type": "markdown",
   "id": "fa9919d5",
   "metadata": {},
   "source": [
    "Reshape the data."
   ]
  },
  {
   "cell_type": "code",
   "execution_count": 169,
   "id": "022a1058",
   "metadata": {},
   "outputs": [
    {
     "name": "stdout",
     "output_type": "stream",
     "text": [
      "(350, 28, 28, 1)\n"
     ]
    }
   ],
   "source": [
    "print(X_labeled_train.shape)"
   ]
  },
  {
   "cell_type": "code",
   "execution_count": 187,
   "id": "78a37cde",
   "metadata": {},
   "outputs": [],
   "source": [
    "unlabeled_x = unlabeled_x.reshape(len(unlabeled_x), -1)\n",
    "X_labeled_train = X_labeled_train.reshape(len(X_labeled_train), -1)\n",
    "X_labeled_validation = X_labeled_validation.reshape(len(X_labeled_validation), -1)\n",
    "X_labeled_test = X_labeled_test.reshape(len(X_labeled_test), -1)"
   ]
  },
  {
   "cell_type": "code",
   "execution_count": 171,
   "id": "aefe677d",
   "metadata": {},
   "outputs": [
    {
     "name": "stdout",
     "output_type": "stream",
     "text": [
      "(350, 784)\n"
     ]
    }
   ],
   "source": [
    "print(X_labeled_train.shape)"
   ]
  },
  {
   "cell_type": "markdown",
   "id": "68d61ff7",
   "metadata": {},
   "source": [
    "Add null model"
   ]
  },
  {
   "cell_type": "markdown",
   "id": "38a510ef",
   "metadata": {},
   "source": [
    "# Itteratie 0"
   ]
  },
  {
   "cell_type": "code",
   "execution_count": 104,
   "id": "4954ccdb",
   "metadata": {},
   "outputs": [],
   "source": [
    "hidden_sizes = [364, 91, 45]"
   ]
  },
  {
   "cell_type": "code",
   "execution_count": null,
   "id": "3dcb95ba",
   "metadata": {},
   "outputs": [
    {
     "name": "stdout",
     "output_type": "stream",
     "text": [
      "[BernoulliRBM] Iteration 1, pseudo-likelihood = -159.31, time = 4.56s\n",
      "[BernoulliRBM] Iteration 2, pseudo-likelihood = -124.88, time = 5.36s\n",
      "[BernoulliRBM] Iteration 3, pseudo-likelihood = -115.38, time = 5.38s\n",
      "[BernoulliRBM] Iteration 4, pseudo-likelihood = -107.03, time = 5.39s\n",
      "[BernoulliRBM] Iteration 5, pseudo-likelihood = -101.59, time = 5.42s\n",
      "[BernoulliRBM] Iteration 6, pseudo-likelihood = -97.75, time = 5.35s\n",
      "[BernoulliRBM] Iteration 7, pseudo-likelihood = -94.37, time = 5.43s\n",
      "[BernoulliRBM] Iteration 8, pseudo-likelihood = -91.28, time = 5.48s\n",
      "[BernoulliRBM] Iteration 9, pseudo-likelihood = -89.30, time = 5.47s\n",
      "[BernoulliRBM] Iteration 10, pseudo-likelihood = -88.11, time = 5.46s\n",
      "[BernoulliRBM] Iteration 11, pseudo-likelihood = -86.23, time = 5.50s\n",
      "[BernoulliRBM] Iteration 12, pseudo-likelihood = -84.56, time = 5.49s\n",
      "[BernoulliRBM] Iteration 13, pseudo-likelihood = -83.44, time = 5.53s\n",
      "[BernoulliRBM] Iteration 14, pseudo-likelihood = -82.11, time = 5.53s\n",
      "[BernoulliRBM] Iteration 15, pseudo-likelihood = -81.00, time = 5.51s\n",
      "[BernoulliRBM] Iteration 16, pseudo-likelihood = -81.09, time = 5.57s\n",
      "[BernoulliRBM] Iteration 17, pseudo-likelihood = -79.57, time = 5.60s\n",
      "[BernoulliRBM] Iteration 18, pseudo-likelihood = -78.90, time = 5.53s\n",
      "[BernoulliRBM] Iteration 19, pseudo-likelihood = -78.25, time = 5.61s\n",
      "[BernoulliRBM] Iteration 20, pseudo-likelihood = -76.59, time = 5.57s\n",
      "[BernoulliRBM] Iteration 21, pseudo-likelihood = -76.25, time = 5.58s\n",
      "[BernoulliRBM] Iteration 22, pseudo-likelihood = -75.45, time = 5.58s\n",
      "[BernoulliRBM] Iteration 23, pseudo-likelihood = -75.18, time = 5.61s\n",
      "[BernoulliRBM] Iteration 24, pseudo-likelihood = -74.55, time = 5.58s\n",
      "[BernoulliRBM] Iteration 25, pseudo-likelihood = -74.06, time = 5.60s\n",
      "[BernoulliRBM] Iteration 26, pseudo-likelihood = -73.70, time = 5.59s\n",
      "[BernoulliRBM] Iteration 27, pseudo-likelihood = -72.78, time = 5.61s\n",
      "[BernoulliRBM] Iteration 28, pseudo-likelihood = -72.70, time = 5.57s\n",
      "[BernoulliRBM] Iteration 29, pseudo-likelihood = -72.29, time = 5.59s\n",
      "[BernoulliRBM] Iteration 30, pseudo-likelihood = -72.33, time = 5.64s\n",
      "[BernoulliRBM] Iteration 31, pseudo-likelihood = -71.67, time = 5.59s\n",
      "[BernoulliRBM] Iteration 32, pseudo-likelihood = -71.59, time = 5.61s\n",
      "[BernoulliRBM] Iteration 33, pseudo-likelihood = -70.84, time = 5.61s\n",
      "[BernoulliRBM] Iteration 34, pseudo-likelihood = -70.82, time = 5.60s\n",
      "[BernoulliRBM] Iteration 35, pseudo-likelihood = -70.88, time = 5.62s\n",
      "[BernoulliRBM] Iteration 36, pseudo-likelihood = -70.85, time = 5.58s\n",
      "[BernoulliRBM] Iteration 37, pseudo-likelihood = -70.77, time = 5.63s\n",
      "[BernoulliRBM] Iteration 38, pseudo-likelihood = -70.40, time = 5.61s\n",
      "[BernoulliRBM] Iteration 39, pseudo-likelihood = -69.56, time = 5.57s\n",
      "[BernoulliRBM] Iteration 40, pseudo-likelihood = -69.08, time = 5.56s\n",
      "[BernoulliRBM] Iteration 41, pseudo-likelihood = -69.27, time = 5.59s\n",
      "[BernoulliRBM] Iteration 42, pseudo-likelihood = -69.19, time = 5.61s\n",
      "[BernoulliRBM] Iteration 43, pseudo-likelihood = -69.15, time = 5.63s\n",
      "[BernoulliRBM] Iteration 44, pseudo-likelihood = -68.91, time = 5.58s\n",
      "[BernoulliRBM] Iteration 45, pseudo-likelihood = -68.55, time = 5.59s\n",
      "[BernoulliRBM] Iteration 46, pseudo-likelihood = -68.51, time = 5.63s\n",
      "[BernoulliRBM] Iteration 47, pseudo-likelihood = -68.41, time = 5.59s\n",
      "[BernoulliRBM] Iteration 48, pseudo-likelihood = -67.93, time = 5.57s\n",
      "[BernoulliRBM] Iteration 49, pseudo-likelihood = -68.34, time = 5.58s\n",
      "[BernoulliRBM] Iteration 50, pseudo-likelihood = -67.56, time = 5.55s\n",
      "Model (size = 364) done!\n",
      "[BernoulliRBM] Iteration 1, pseudo-likelihood = -109.02, time = 1.55s\n",
      "[BernoulliRBM] Iteration 2, pseudo-likelihood = -94.16, time = 1.86s\n",
      "[BernoulliRBM] Iteration 3, pseudo-likelihood = -88.46, time = 1.85s\n",
      "[BernoulliRBM] Iteration 4, pseudo-likelihood = -84.19, time = 1.84s\n",
      "[BernoulliRBM] Iteration 5, pseudo-likelihood = -80.05, time = 1.82s\n",
      "[BernoulliRBM] Iteration 6, pseudo-likelihood = -77.15, time = 1.82s\n",
      "[BernoulliRBM] Iteration 7, pseudo-likelihood = -75.31, time = 1.76s\n",
      "[BernoulliRBM] Iteration 8, pseudo-likelihood = -74.60, time = 1.75s\n",
      "[BernoulliRBM] Iteration 9, pseudo-likelihood = -74.19, time = 1.76s\n",
      "[BernoulliRBM] Iteration 10, pseudo-likelihood = -73.37, time = 1.78s\n",
      "[BernoulliRBM] Iteration 11, pseudo-likelihood = -73.36, time = 1.78s\n",
      "[BernoulliRBM] Iteration 12, pseudo-likelihood = -72.74, time = 1.75s\n",
      "[BernoulliRBM] Iteration 13, pseudo-likelihood = -72.24, time = 1.75s\n",
      "[BernoulliRBM] Iteration 14, pseudo-likelihood = -72.43, time = 1.77s\n",
      "[BernoulliRBM] Iteration 15, pseudo-likelihood = -71.63, time = 1.77s\n",
      "[BernoulliRBM] Iteration 16, pseudo-likelihood = -71.22, time = 1.75s\n",
      "[BernoulliRBM] Iteration 17, pseudo-likelihood = -70.71, time = 1.81s\n",
      "[BernoulliRBM] Iteration 18, pseudo-likelihood = -69.88, time = 1.79s\n",
      "[BernoulliRBM] Iteration 19, pseudo-likelihood = -70.24, time = 1.81s\n",
      "[BernoulliRBM] Iteration 20, pseudo-likelihood = -69.79, time = 1.80s\n",
      "[BernoulliRBM] Iteration 21, pseudo-likelihood = -69.27, time = 1.78s\n",
      "[BernoulliRBM] Iteration 22, pseudo-likelihood = -69.40, time = 1.79s\n",
      "[BernoulliRBM] Iteration 23, pseudo-likelihood = -68.73, time = 1.81s\n",
      "[BernoulliRBM] Iteration 24, pseudo-likelihood = -69.13, time = 1.79s\n",
      "[BernoulliRBM] Iteration 25, pseudo-likelihood = -69.31, time = 1.79s\n",
      "[BernoulliRBM] Iteration 26, pseudo-likelihood = -68.20, time = 1.78s\n",
      "[BernoulliRBM] Iteration 27, pseudo-likelihood = -68.51, time = 1.79s\n",
      "[BernoulliRBM] Iteration 28, pseudo-likelihood = -68.37, time = 1.76s\n",
      "[BernoulliRBM] Iteration 29, pseudo-likelihood = -67.67, time = 1.77s\n",
      "[BernoulliRBM] Iteration 30, pseudo-likelihood = -68.19, time = 1.75s\n",
      "[BernoulliRBM] Iteration 31, pseudo-likelihood = -67.18, time = 1.76s\n",
      "[BernoulliRBM] Iteration 32, pseudo-likelihood = -67.65, time = 1.77s\n",
      "[BernoulliRBM] Iteration 33, pseudo-likelihood = -67.57, time = 1.82s\n",
      "[BernoulliRBM] Iteration 34, pseudo-likelihood = -67.22, time = 1.78s\n",
      "[BernoulliRBM] Iteration 35, pseudo-likelihood = -67.27, time = 1.79s\n",
      "[BernoulliRBM] Iteration 36, pseudo-likelihood = -67.48, time = 1.76s\n",
      "[BernoulliRBM] Iteration 37, pseudo-likelihood = -67.04, time = 1.81s\n",
      "[BernoulliRBM] Iteration 38, pseudo-likelihood = -66.70, time = 1.76s\n",
      "[BernoulliRBM] Iteration 39, pseudo-likelihood = -67.39, time = 1.77s\n",
      "[BernoulliRBM] Iteration 40, pseudo-likelihood = -66.84, time = 1.78s\n",
      "[BernoulliRBM] Iteration 41, pseudo-likelihood = -66.81, time = 1.79s\n",
      "[BernoulliRBM] Iteration 42, pseudo-likelihood = -66.53, time = 1.79s\n",
      "[BernoulliRBM] Iteration 43, pseudo-likelihood = -66.75, time = 1.78s\n",
      "[BernoulliRBM] Iteration 44, pseudo-likelihood = -66.53, time = 1.75s\n",
      "[BernoulliRBM] Iteration 45, pseudo-likelihood = -65.96, time = 1.81s\n",
      "[BernoulliRBM] Iteration 46, pseudo-likelihood = -66.34, time = 1.79s\n",
      "[BernoulliRBM] Iteration 47, pseudo-likelihood = -66.37, time = 1.81s\n",
      "[BernoulliRBM] Iteration 48, pseudo-likelihood = -66.76, time = 1.79s\n",
      "[BernoulliRBM] Iteration 49, pseudo-likelihood = -66.43, time = 1.78s\n",
      "[BernoulliRBM] Iteration 50, pseudo-likelihood = -66.17, time = 1.80s\n",
      "Model (size = 91) done!\n",
      "[BernoulliRBM] Iteration 1, pseudo-likelihood = -38.90, time = 0.53s\n",
      "[BernoulliRBM] Iteration 2, pseudo-likelihood = -29.61, time = 0.61s\n",
      "[BernoulliRBM] Iteration 3, pseudo-likelihood = -26.86, time = 0.62s\n",
      "[BernoulliRBM] Iteration 4, pseudo-likelihood = -25.50, time = 0.61s\n",
      "[BernoulliRBM] Iteration 5, pseudo-likelihood = -23.97, time = 0.62s\n",
      "[BernoulliRBM] Iteration 6, pseudo-likelihood = -23.16, time = 0.61s\n",
      "[BernoulliRBM] Iteration 7, pseudo-likelihood = -22.58, time = 0.60s\n",
      "[BernoulliRBM] Iteration 8, pseudo-likelihood = -22.14, time = 0.61s\n",
      "[BernoulliRBM] Iteration 9, pseudo-likelihood = -21.72, time = 0.60s\n",
      "[BernoulliRBM] Iteration 10, pseudo-likelihood = -21.42, time = 0.60s\n",
      "[BernoulliRBM] Iteration 11, pseudo-likelihood = -21.09, time = 0.60s\n",
      "[BernoulliRBM] Iteration 12, pseudo-likelihood = -20.95, time = 0.60s\n",
      "[BernoulliRBM] Iteration 13, pseudo-likelihood = -20.70, time = 0.60s\n",
      "[BernoulliRBM] Iteration 14, pseudo-likelihood = -20.59, time = 0.60s\n",
      "[BernoulliRBM] Iteration 15, pseudo-likelihood = -20.34, time = 0.60s\n",
      "[BernoulliRBM] Iteration 16, pseudo-likelihood = -20.28, time = 0.60s\n",
      "[BernoulliRBM] Iteration 17, pseudo-likelihood = -20.20, time = 0.60s\n",
      "[BernoulliRBM] Iteration 18, pseudo-likelihood = -20.06, time = 0.60s\n",
      "[BernoulliRBM] Iteration 19, pseudo-likelihood = -19.90, time = 0.60s\n",
      "[BernoulliRBM] Iteration 20, pseudo-likelihood = -19.93, time = 0.60s\n",
      "[BernoulliRBM] Iteration 21, pseudo-likelihood = -19.86, time = 0.59s\n",
      "[BernoulliRBM] Iteration 22, pseudo-likelihood = -19.78, time = 0.60s\n",
      "[BernoulliRBM] Iteration 23, pseudo-likelihood = -19.69, time = 0.60s\n",
      "[BernoulliRBM] Iteration 24, pseudo-likelihood = -19.67, time = 0.60s\n",
      "[BernoulliRBM] Iteration 25, pseudo-likelihood = -19.51, time = 0.60s\n",
      "[BernoulliRBM] Iteration 26, pseudo-likelihood = -19.64, time = 0.60s\n",
      "[BernoulliRBM] Iteration 27, pseudo-likelihood = -19.52, time = 0.60s\n",
      "[BernoulliRBM] Iteration 28, pseudo-likelihood = -19.48, time = 0.59s\n",
      "[BernoulliRBM] Iteration 29, pseudo-likelihood = -19.41, time = 0.59s\n",
      "[BernoulliRBM] Iteration 30, pseudo-likelihood = -19.41, time = 0.60s\n",
      "[BernoulliRBM] Iteration 31, pseudo-likelihood = -19.34, time = 0.59s\n",
      "[BernoulliRBM] Iteration 32, pseudo-likelihood = -19.37, time = 0.60s\n",
      "[BernoulliRBM] Iteration 33, pseudo-likelihood = -19.30, time = 0.61s\n",
      "[BernoulliRBM] Iteration 34, pseudo-likelihood = -19.24, time = 0.59s\n",
      "[BernoulliRBM] Iteration 35, pseudo-likelihood = -19.23, time = 0.60s\n",
      "[BernoulliRBM] Iteration 36, pseudo-likelihood = -19.10, time = 0.60s\n",
      "[BernoulliRBM] Iteration 37, pseudo-likelihood = -19.22, time = 0.59s\n",
      "[BernoulliRBM] Iteration 38, pseudo-likelihood = -18.95, time = 0.60s\n",
      "[BernoulliRBM] Iteration 39, pseudo-likelihood = -19.21, time = 0.59s\n",
      "[BernoulliRBM] Iteration 40, pseudo-likelihood = -19.08, time = 0.60s\n",
      "[BernoulliRBM] Iteration 41, pseudo-likelihood = -19.07, time = 0.60s\n",
      "[BernoulliRBM] Iteration 42, pseudo-likelihood = -19.10, time = 0.60s\n",
      "[BernoulliRBM] Iteration 43, pseudo-likelihood = -19.18, time = 0.59s\n",
      "[BernoulliRBM] Iteration 44, pseudo-likelihood = -19.12, time = 0.60s\n",
      "[BernoulliRBM] Iteration 45, pseudo-likelihood = -18.99, time = 0.59s\n",
      "[BernoulliRBM] Iteration 46, pseudo-likelihood = -18.98, time = 0.60s\n",
      "[BernoulliRBM] Iteration 47, pseudo-likelihood = -18.92, time = 0.60s\n",
      "[BernoulliRBM] Iteration 48, pseudo-likelihood = -18.87, time = 0.60s\n",
      "[BernoulliRBM] Iteration 49, pseudo-likelihood = -18.98, time = 0.60s\n",
      "[BernoulliRBM] Iteration 50, pseudo-likelihood = -18.94, time = 0.60s\n",
      "Model (size = 45) done!\n"
     ]
    }
   ],
   "source": [
    "inp = unlabeled_x\n",
    "RBMs = []\n",
    "for size in hidden_sizes:\n",
    "    rbm = BernoulliRBM(size, learning_rate = 0.2, batch_size = 500, n_iter = 100, random_state = 42, verbose=1)    \n",
    "    inp = rbm.fit_transform(inp)\n",
    "    RBMs.append(rbm)\n",
    "    print(f'Model (size = {size}) done!')"
   ]
  },
  {
   "cell_type": "code",
   "execution_count": 114,
   "id": "c17c3845",
   "metadata": {},
   "outputs": [],
   "source": [
    "with open('DBN_2B_0.pickle', 'wb') as file:\n",
    "    pickle.dump(RBMs, file)"
   ]
  },
  {
   "cell_type": "code",
   "execution_count": 115,
   "id": "5af491c1",
   "metadata": {},
   "outputs": [],
   "source": [
    "with open('DBN_2B_0.pickle', 'rb') as file:\n",
    "    RBMs = pickle.load(file)"
   ]
  },
  {
   "cell_type": "code",
   "execution_count": 106,
   "id": "37909bef",
   "metadata": {},
   "outputs": [],
   "source": [
    "def sample(rbms, rng, ngibbs=20):\n",
    "\n",
    "    # Perform Gibbs sampling with the last RBM\n",
    "    v = rng.binomial(1, 0.2, size=hidden_sizes[-2])\n",
    "    for i in range(ngibbs):\n",
    "        v = rbms[-1].gibbs(v)\n",
    "\n",
    "    # Perform ancestral sampling for the other layers\n",
    "    for i in range(len(rbms)-2, -1, -1):\n",
    "        v = rbms[i]._sample_visibles(v, rng)\n",
    "    \n",
    "    return v"
   ]
  },
  {
   "cell_type": "markdown",
   "id": "f502fff1",
   "metadata": {},
   "source": [
    "RBM inner representatation of the number."
   ]
  },
  {
   "cell_type": "code",
   "execution_count": 107,
   "id": "336bda0e",
   "metadata": {},
   "outputs": [
    {
     "data": {
      "application/vnd.jupyter.widget-view+json": {
       "model_id": "3e0ddbe559604dd2b12f3452f9b69782",
       "version_major": 2,
       "version_minor": 0
      },
      "text/plain": [
       "interactive(children=(IntSlider(value=5, description='seed', max=10), Output()), _dom_classes=('widget-interac…"
      ]
     },
     "execution_count": 107,
     "metadata": {},
     "output_type": "execute_result"
    }
   ],
   "source": [
    "def makeplot(seed):\n",
    "    rng = np.random.RandomState(seed)\n",
    "\n",
    "    plt.figure(figsize=(50,20))\n",
    "    for i in range(10):\n",
    "        plt.subplot(2,5,i+1)\n",
    "        plt.imshow(sample(RBMs, rng).reshape(28,28), cmap='gray')\n",
    "        plt.axis('off')\n",
    "    plt.show()\n",
    "\n",
    "interactive(makeplot, seed=(0,10))\n",
    "        "
   ]
  },
  {
   "cell_type": "markdown",
   "id": "ffc73def",
   "metadata": {},
   "source": [
    "How good the model is at recognising the numbers."
   ]
  },
  {
   "cell_type": "code",
   "execution_count": 108,
   "id": "2d66f861",
   "metadata": {},
   "outputs": [
    {
     "data": {
      "application/vnd.jupyter.widget-view+json": {
       "model_id": "4d7463705c3c4dc6accabb236b5da673",
       "version_major": 2,
       "version_minor": 0
      },
      "text/plain": [
       "interactive(children=(IntSlider(value=10, description='n', max=20), IntSlider(value=10, description='seed', ma…"
      ]
     },
     "execution_count": 108,
     "metadata": {},
     "output_type": "execute_result"
    }
   ],
   "source": [
    "def makeplot2(n, seed):\n",
    "    rng = np.random.RandomState(seed)\n",
    "    img = X_labeled_train[n]\n",
    "    plt.figure(figsize = (50,20))\n",
    "    plt.subplot(2,5,1)\n",
    "    plt.imshow(img.reshape(28,28), cmap='gray')\n",
    "    plt.axis('off')\n",
    "    for i in range(9):\n",
    "        x = img.reshape(1,-1)\n",
    "        for rbm in RBMs:\n",
    "            x = rbm._sample_hiddens(x,rng)\n",
    "        for rbm in reversed(RBMs):\n",
    "            x = rbm._sample_visibles(x,rng)\n",
    "        plt.subplot(2,5,i+2)\n",
    "        plt.imshow(x.reshape(28,28), cmap='gray')\n",
    "        plt.axis('off')\n",
    "    plt.show()\n",
    "    \n",
    "interactive(makeplot2, n=(0,20), seed = (0,20))"
   ]
  },
  {
   "cell_type": "code",
   "execution_count": 122,
   "id": "3832b966",
   "metadata": {},
   "outputs": [
    {
     "name": "stdout",
     "output_type": "stream",
     "text": [
      "RBMPyTorchModel(\n",
      "  (rbm1): Linear(in_features=784, out_features=364, bias=True)\n",
      "  (rbm2): Linear(in_features=364, out_features=91, bias=True)\n",
      "  (rbm3): Linear(in_features=91, out_features=45, bias=True)\n",
      "  (fc1): Linear(in_features=45, out_features=10, bias=True)\n",
      ")\n"
     ]
    }
   ],
   "source": [
    "# Define a PyTorch model\n",
    "class RBMPyTorchModel(nn.Module):\n",
    "    def __init__(self):\n",
    "        super(RBMPyTorchModel, self).__init__()\n",
    "        self.rbm1 = nn.Linear(784, 364, bias=True)\n",
    "        self.rbm2 = nn.Linear(364, 91, bias=True)\n",
    "        self.rbm3 = nn.Linear(91, 45, bias=True)\n",
    "        \n",
    "        self.fc1 = nn.Linear(45, 10)\n",
    "\n",
    "    def forward(self, x):\n",
    "        x = torch.sigmoid(self.rbm1(x))\n",
    "        x = torch.sigmoid(self.rbm2(x))\n",
    "        x = torch.sigmoid(self.rbm3(x))\n",
    "        x = torch.relu(self.fc1(x))\n",
    "        return x\n",
    "\n",
    "# Create a PyTorch model\n",
    "model = RBMPyTorchModel()\n",
    "\n",
    "# Transfer parameters to PyTorch model\n",
    "with torch.no_grad():\n",
    "    model.rbm1.weight.copy_(torch.tensor(RBMs[0].components_.T.T))\n",
    "    model.rbm1.bias.copy_(torch.tensor(RBMs[0].intercept_hidden_))\n",
    "    \n",
    "    model.rbm2.weight.copy_(torch.tensor(RBMs[1].components_.T.T))\n",
    "    model.rbm2.bias.copy_(torch.tensor(RBMs[1].intercept_hidden_))\n",
    "    \n",
    "    model.rbm3.weight.copy_(torch.tensor(RBMs[2].components_.T.T))\n",
    "    model.rbm3.bias.copy_(torch.tensor(RBMs[2].intercept_hidden_))\n",
    "\n",
    "# Freeze the first 3 layers\n",
    "for param in model.rbm1.parameters():\n",
    "    param.requires_grad = False\n",
    "for param in model.rbm2.parameters():\n",
    "    param.requires_grad = False\n",
    "for param in model.rbm3.parameters():\n",
    "    param.requires_grad = False\n",
    "    \n",
    "print(model)"
   ]
  },
  {
   "cell_type": "code",
   "execution_count": 123,
   "id": "78ae61af",
   "metadata": {},
   "outputs": [
    {
     "name": "stdout",
     "output_type": "stream",
     "text": [
      "Epoch [1/100], Loss: 2.0992, Val Loss: 1.9760\n",
      "Epoch [2/100], Loss: 2.0836, Val Loss: 1.6083\n",
      "Epoch [3/100], Loss: 1.9121, Val Loss: 1.2281\n",
      "Epoch [4/100], Loss: 1.7288, Val Loss: 0.9756\n",
      "Epoch [5/100], Loss: 1.6031, Val Loss: 0.8161\n",
      "Epoch [6/100], Loss: 1.6099, Val Loss: 0.7196\n",
      "Epoch [7/100], Loss: 1.6467, Val Loss: 0.6469\n",
      "Epoch [8/100], Loss: 1.5447, Val Loss: 0.5927\n",
      "Epoch [9/100], Loss: 1.5097, Val Loss: 0.5485\n",
      "Epoch [10/100], Loss: 1.5038, Val Loss: 0.5123\n",
      "Epoch [11/100], Loss: 1.5008, Val Loss: 0.4863\n",
      "Epoch [12/100], Loss: 1.4733, Val Loss: 0.4581\n",
      "Epoch [13/100], Loss: 1.3963, Val Loss: 0.4372\n",
      "Epoch [14/100], Loss: 1.3697, Val Loss: 0.4173\n",
      "Epoch [15/100], Loss: 1.3124, Val Loss: 0.4060\n",
      "Epoch [16/100], Loss: 1.3403, Val Loss: 0.3924\n",
      "Epoch [17/100], Loss: 1.3195, Val Loss: 0.3782\n",
      "Epoch [18/100], Loss: 1.3588, Val Loss: 0.3708\n",
      "Epoch [19/100], Loss: 1.3310, Val Loss: 0.3627\n",
      "Epoch [20/100], Loss: 1.3704, Val Loss: 0.3532\n",
      "Epoch [21/100], Loss: 1.4099, Val Loss: 0.3495\n",
      "Epoch [22/100], Loss: 1.2495, Val Loss: 0.3347\n",
      "Epoch [23/100], Loss: 1.3093, Val Loss: 0.3325\n",
      "Epoch [24/100], Loss: 1.2785, Val Loss: 0.3268\n",
      "Epoch [25/100], Loss: 1.3565, Val Loss: 0.3225\n",
      "Epoch [26/100], Loss: 1.3097, Val Loss: 0.3158\n",
      "Epoch [27/100], Loss: 1.3486, Val Loss: 0.3155\n",
      "Epoch [28/100], Loss: 1.1783, Val Loss: 0.3020\n",
      "Epoch [29/100], Loss: 1.2911, Val Loss: 0.3030\n",
      "Epoch [30/100], Loss: 1.2642, Val Loss: 0.2995\n",
      "Epoch [31/100], Loss: 1.2144, Val Loss: 0.2931\n",
      "Epoch [32/100], Loss: 1.2288, Val Loss: 0.2900\n",
      "Epoch [33/100], Loss: 1.1398, Val Loss: 0.2859\n",
      "Epoch [34/100], Loss: 1.1390, Val Loss: 0.2858\n",
      "Epoch [35/100], Loss: 1.1317, Val Loss: 0.2820\n",
      "Epoch [36/100], Loss: 1.1864, Val Loss: 0.2780\n",
      "Epoch [37/100], Loss: 1.1954, Val Loss: 0.2757\n",
      "Epoch [38/100], Loss: 1.1751, Val Loss: 0.2762\n",
      "Epoch [39/100], Loss: 1.1823, Val Loss: 0.2745\n",
      "Epoch [40/100], Loss: 1.1320, Val Loss: 0.2716\n",
      "Epoch [41/100], Loss: 1.1564, Val Loss: 0.2717\n",
      "Epoch [42/100], Loss: 1.1372, Val Loss: 0.2731\n",
      "Epoch [43/100], Loss: 1.1515, Val Loss: 0.2702\n",
      "Epoch [44/100], Loss: 1.1457, Val Loss: 0.2709\n",
      "Epoch [45/100], Loss: 1.1476, Val Loss: 0.2685\n",
      "Epoch [46/100], Loss: 1.1778, Val Loss: 0.2684\n",
      "Epoch [47/100], Loss: 1.1168, Val Loss: 0.2654\n",
      "Epoch [48/100], Loss: 1.1497, Val Loss: 0.2675\n",
      "Epoch [49/100], Loss: 1.1065, Val Loss: 0.2636\n",
      "Epoch [50/100], Loss: 1.0980, Val Loss: 0.2631\n",
      "Epoch [51/100], Loss: 1.1717, Val Loss: 0.2647\n",
      "Epoch [52/100], Loss: 1.0936, Val Loss: 0.2626\n",
      "Epoch [53/100], Loss: 1.0815, Val Loss: 0.2633\n",
      "Epoch [54/100], Loss: 1.1361, Val Loss: 0.2638\n",
      "Epoch [55/100], Loss: 1.1162, Val Loss: 0.2606\n",
      "Epoch [56/100], Loss: 1.1725, Val Loss: 0.2639\n",
      "Epoch [57/100], Loss: 1.1549, Val Loss: 0.2628\n",
      "Epoch [58/100], Loss: 1.2213, Val Loss: 0.2670\n",
      "Epoch [59/100], Loss: 1.1417, Val Loss: 0.2589\n",
      "Epoch [60/100], Loss: 1.1354, Val Loss: 0.2586\n",
      "Epoch [61/100], Loss: 1.0517, Val Loss: 0.2579\n",
      "Epoch [62/100], Loss: 1.0660, Val Loss: 0.2581\n",
      "Epoch [63/100], Loss: 1.1447, Val Loss: 0.2620\n",
      "Epoch [64/100], Loss: 1.1823, Val Loss: 0.2629\n",
      "Epoch [65/100], Loss: 1.1876, Val Loss: 0.2624\n",
      "Epoch [66/100], Loss: 1.0430, Val Loss: 0.2597\n",
      "Epoch [67/100], Loss: 1.1283, Val Loss: 0.2623\n",
      "Epoch [68/100], Loss: 1.1848, Val Loss: 0.2634\n",
      "Epoch [69/100], Loss: 1.0967, Val Loss: 0.2588\n",
      "Epoch [70/100], Loss: 1.2623, Val Loss: 0.2679\n",
      "Epoch [71/100], Loss: 1.1654, Val Loss: 0.2611\n",
      "Epoch [72/100], Loss: 1.1019, Val Loss: 0.2593\n",
      "Epoch [73/100], Loss: 1.0799, Val Loss: 0.2581\n",
      "Epoch [74/100], Loss: 1.1753, Val Loss: 0.2613\n",
      "Epoch [75/100], Loss: 1.0564, Val Loss: 0.2568\n",
      "Epoch [76/100], Loss: 0.9670, Val Loss: 0.2538\n",
      "Epoch [77/100], Loss: 1.0344, Val Loss: 0.2570\n",
      "Epoch [78/100], Loss: 1.0120, Val Loss: 0.2555\n",
      "Epoch [79/100], Loss: 1.0204, Val Loss: 0.2570\n",
      "Epoch [80/100], Loss: 0.9975, Val Loss: 0.2560\n",
      "Epoch [81/100], Loss: 0.9933, Val Loss: 0.2558\n",
      "Epoch [82/100], Loss: 0.9461, Val Loss: 0.2561\n",
      "Epoch [83/100], Loss: 1.0954, Val Loss: 0.2631\n",
      "Epoch [84/100], Loss: 1.0669, Val Loss: 0.2613\n",
      "Epoch [85/100], Loss: 1.0102, Val Loss: 0.2586\n",
      "Epoch [86/100], Loss: 0.9756, Val Loss: 0.2568\n",
      "Epoch [87/100], Loss: 1.0692, Val Loss: 0.2631\n",
      "Epoch [88/100], Loss: 1.0710, Val Loss: 0.2629\n",
      "Epoch [89/100], Loss: 1.0322, Val Loss: 0.2602\n",
      "Epoch [90/100], Loss: 1.0202, Val Loss: 0.2610\n",
      "Epoch [91/100], Loss: 1.0136, Val Loss: 0.2598\n",
      "Epoch [92/100], Loss: 0.9595, Val Loss: 0.2601\n",
      "Epoch [93/100], Loss: 1.0260, Val Loss: 0.2616\n",
      "Epoch [94/100], Loss: 0.9402, Val Loss: 0.2568\n",
      "Epoch [95/100], Loss: 0.9971, Val Loss: 0.2620\n",
      "Epoch [96/100], Loss: 1.0339, Val Loss: 0.2627\n",
      "Epoch [97/100], Loss: 1.0526, Val Loss: 0.2634\n",
      "Epoch [98/100], Loss: 0.9687, Val Loss: 0.2596\n",
      "Epoch [99/100], Loss: 0.9903, Val Loss: 0.2597\n",
      "Epoch [100/100], Loss: 0.9051, Val Loss: 0.2583\n",
      "Training complete!\n"
     ]
    }
   ],
   "source": [
    "import torch\n",
    "import torch.nn as nn\n",
    "import torch.optim as optim\n",
    "from torch.utils.data import DataLoader, TensorDataset\n",
    "\n",
    "X_train = torch.tensor(X_labeled_train, dtype=torch.float32)\n",
    "y_train = torch.tensor(y_labeled_train, dtype=torch.float32)\n",
    "\n",
    "X_val = torch.tensor(X_labeled_validation, dtype=torch.float32)\n",
    "y_val = torch.tensor(y_labeled_validation, dtype=torch.float32)\n",
    "\n",
    "# Create TensorDataset\n",
    "train_dataset = TensorDataset(X_train, y_train)\n",
    "val_dataset = TensorDataset(X_val, y_val)\n",
    "\n",
    "# Create DataLoader\n",
    "train_loader = DataLoader(train_dataset, batch_size=2, shuffle=True)\n",
    "val_loader = DataLoader(val_dataset, batch_size=2, shuffle=False)\n",
    "\n",
    "# Define loss function and optimizer\n",
    "criterion = nn.CrossEntropyLoss()\n",
    "optimizer = optim.Adam(model.parameters(), lr=0.001)\n",
    "\n",
    "\n",
    "# Initialize lists to store loss and validation loss\n",
    "train_losses1 = []\n",
    "val_losses1 = []\n",
    "\n",
    "# Training loop\n",
    "num_epochs = 100\n",
    "for epoch in range(num_epochs):\n",
    "    train_loss = 0.0\n",
    "    for inputs, labels in train_loader:\n",
    "        # Zero the parameter gradients\n",
    "        optimizer.zero_grad()\n",
    "\n",
    "        # Forward pass\n",
    "        outputs = model(inputs)\n",
    "        loss = criterion(outputs, labels)\n",
    "        train_loss += loss.item()\n",
    "\n",
    "        # Backward pass and optimize\n",
    "        loss.backward()\n",
    "        optimizer.step()\n",
    "        \n",
    "    train_loss /= len(train_loader)\n",
    "    train_losses1.append(train_loss)\n",
    "\n",
    "    # Validation loop\n",
    "    model.eval()\n",
    "    val_loss = 0.0\n",
    "    with torch.no_grad():\n",
    "        for inputs, labels in val_loader:\n",
    "            outputs = model(inputs)\n",
    "            loss = criterion(outputs, labels)\n",
    "            val_loss += loss.item()\n",
    "\n",
    "    val_loss /= len(val_loader)\n",
    "    val_losses1.append(val_loss)\n",
    "    print(f'Epoch [{epoch+1}/{num_epochs}], Loss: {loss.item():.4f}, Val Loss: {val_loss:.4f}')\n",
    "\n",
    "print(\"Training complete!\")"
   ]
  },
  {
   "cell_type": "code",
   "execution_count": 117,
   "id": "f3e2bf85",
   "metadata": {},
   "outputs": [
    {
     "name": "stdout",
     "output_type": "stream",
     "text": [
      "Model saved!\n"
     ]
    }
   ],
   "source": [
    "# Save the model\n",
    "torch.save(model.state_dict(), 'model_0.pth')\n",
    "print(\"Model saved!\")"
   ]
  },
  {
   "cell_type": "code",
   "execution_count": 118,
   "id": "b1960ab2",
   "metadata": {},
   "outputs": [
    {
     "name": "stdout",
     "output_type": "stream",
     "text": [
      "Model loaded!\n"
     ]
    },
    {
     "name": "stderr",
     "output_type": "stream",
     "text": [
      "C:\\Users\\jelma\\AppData\\Local\\Temp\\ipykernel_9132\\3365279233.py:3: FutureWarning: You are using `torch.load` with `weights_only=False` (the current default value), which uses the default pickle module implicitly. It is possible to construct malicious pickle data which will execute arbitrary code during unpickling (See https://github.com/pytorch/pytorch/blob/main/SECURITY.md#untrusted-models for more details). In a future release, the default value for `weights_only` will be flipped to `True`. This limits the functions that could be executed during unpickling. Arbitrary objects will no longer be allowed to be loaded via this mode unless they are explicitly allowlisted by the user via `torch.serialization.add_safe_globals`. We recommend you start setting `weights_only=True` for any use case where you don't have full control of the loaded file. Please open an issue on GitHub for any issues related to this experimental feature.\n",
      "  model.load_state_dict(torch.load('model_1.pth'))\n"
     ]
    }
   ],
   "source": [
    "# Load the model\n",
    "model = RBMPyTorchModel()  # Replace with your model class\n",
    "model.load_state_dict(torch.load('model_0.pth'))\n",
    "model.eval()  # Set the model to evaluation mode\n",
    "print(\"Model loaded!\")"
   ]
  },
  {
   "cell_type": "code",
   "execution_count": 124,
   "id": "27468ee6",
   "metadata": {},
   "outputs": [
    {
     "data": {
      "image/png": "[encoded data removed]",
      "text/plain": [
       "<Figure size 1000x500 with 1 Axes>"
      ]
     },
     "metadata": {},
     "output_type": "display_data"
    }
   ],
   "source": [
    "# Plot the training and validation loss\n",
    "plt.figure(figsize=(10, 5))\n",
    "plt.plot(range(1, num_epochs + 1), train_losses1, label='Training Loss')\n",
    "plt.plot(range(1, num_epochs + 1), val_losses1, label='Validation Loss')\n",
    "plt.xlabel('Epochs')\n",
    "plt.ylabel('Loss')\n",
    "plt.title('Training and Validation Loss')\n",
    "plt.legend()\n",
    "plt.show()"
   ]
  },
  {
   "cell_type": "code",
   "execution_count": 125,
   "id": "a552ac5a",
   "metadata": {},
   "outputs": [
    {
     "data": {
      "image/png": "[encoded data removed]",
      "text/plain": [
       "<Figure size 1000x800 with 2 Axes>"
      ]
     },
     "metadata": {},
     "output_type": "display_data"
    },
    {
     "name": "stdout",
     "output_type": "stream",
     "text": [
      "              precision    recall  f1-score   support\n",
      "\n",
      "           0       0.88      1.00      0.93         7\n",
      "           1       1.00      0.86      0.92         7\n",
      "           2       0.78      0.88      0.82         8\n",
      "           3       0.83      1.00      0.91         5\n",
      "           4       0.86      1.00      0.92         6\n",
      "           5       1.00      0.50      0.67         4\n",
      "           6       0.89      1.00      0.94         8\n",
      "           7       0.85      0.92      0.88        12\n",
      "           8       1.00      1.00      1.00         6\n",
      "           9       1.00      0.75      0.86        12\n",
      "\n",
      "    accuracy                           0.89        75\n",
      "   macro avg       0.91      0.89      0.89        75\n",
      "weighted avg       0.91      0.89      0.89        75\n",
      "\n"
     ]
    }
   ],
   "source": [
    "# Ensure model is in evaluation mode\n",
    "model.eval()\n",
    "\n",
    "# Convert validation data to PyTorch tensor\n",
    "X_val = torch.tensor(X_labeled_validation, dtype=torch.float32)\n",
    "\n",
    "# Get raw logits from the model\n",
    "y_pred_logits = model(X_val)\n",
    "\n",
    "# Apply softmax to convert logits to probabilities\n",
    "y_pred_probs = F.softmax(y_pred_logits, dim=1)\n",
    "\n",
    "# Get the predicted classes (index of the max probability)\n",
    "y_pred_classes = torch.argmax(y_pred_probs, dim=1).numpy()\n",
    "\n",
    "# Get ground truth labels (convert to class indices if needed)\n",
    "y_true = y_labeled_validation\n",
    "if len(y_true.shape) > 1 and y_true.shape[1] > 1:  # Check if y_true is one-hot encoded\n",
    "    y_true = np.argmax(y_true, axis=1)\n",
    "\n",
    "# Compute confusion matrix\n",
    "conf_matrix = confusion_matrix(y_true, y_pred_classes)\n",
    "\n",
    "# Visualize the confusion matrix using seaborn\n",
    "plt.figure(figsize=(10, 8))\n",
    "sns.heatmap(conf_matrix, annot=True, fmt='d', cmap='Blues', xticklabels=range(conf_matrix.shape[1]), \n",
    "            yticklabels=range(conf_matrix.shape[0]))\n",
    "plt.xlabel('Predicted')\n",
    "plt.ylabel('True')\n",
    "plt.title('Confusion Matrix')\n",
    "plt.show()\n",
    "\n",
    "# Print classification report\n",
    "print(classification_report(y_true, y_pred_classes))\n"
   ]
  },
  {
   "cell_type": "markdown",
   "id": "74adddb5",
   "metadata": {},
   "source": [
    "# Itteratie 1"
   ]
  },
  {
   "cell_type": "code",
   "execution_count": null,
   "id": "5feb83ee",
   "metadata": {},
   "outputs": [],
   "source": [
    "# Define a PyTorch model\n",
    "class RBMPyTorchModel(nn.Module):\n",
    "    def __init__(self):\n",
    "        super(RBMPyTorchModel, self).__init__()\n",
    "        self.rbm1 = nn.Linear(784, 364, bias=True)\n",
    "        self.rbm2 = nn.Linear(364, 91, bias=True)\n",
    "        self.rbm3 = nn.Linear(91, 45, bias=True)\n",
    "        \n",
    "        self.fc1 = nn.Linear(45, 10)\n",
    "\n",
    "    def forward(self, x):\n",
    "        x = torch.sigmoid(self.rbm1(x))\n",
    "        x = torch.sigmoid(self.rbm2(x))\n",
    "        x = torch.sigmoid(self.rbm3(x))\n",
    "        x = torch.nn.functional.silu(self.fc1(x))\n",
    "        return x\n",
    "\n",
    "# Create a PyTorch model\n",
    "model = RBMPyTorchModel()\n",
    "\n",
    "# Transfer parameters to PyTorch model\n",
    "with torch.no_grad():\n",
    "    model.rbm1.weight.copy_(torch.tensor(RBMs[0].components_.T.T))\n",
    "    model.rbm1.bias.copy_(torch.tensor(RBMs[0].intercept_hidden_))\n",
    "    \n",
    "    model.rbm2.weight.copy_(torch.tensor(RBMs[1].components_.T.T))\n",
    "    model.rbm2.bias.copy_(torch.tensor(RBMs[1].intercept_hidden_))\n",
    "    \n",
    "    model.rbm3.weight.copy_(torch.tensor(RBMs[2].components_.T.T))\n",
    "    model.rbm3.bias.copy_(torch.tensor(RBMs[2].intercept_hidden_))\n",
    "\n",
    "# Freeze the first 3 layers\n",
    "for param in model.rbm1.parameters():\n",
    "    param.requires_grad = False\n",
    "for param in model.rbm2.parameters():\n",
    "    param.requires_grad = False\n",
    "for param in model.rbm3.parameters():\n",
    "    param.requires_grad = False\n",
    "    \n",
    "print(model)"
   ]
  },
  {
   "cell_type": "code",
   "execution_count": null,
   "id": "48b8fb46",
   "metadata": {},
   "outputs": [],
   "source": [
    "# Load the model\n",
    "model = RBMPyTorchModel()  # Replace with your model class\n",
    "model.load_state_dict(torch.load('model_0.pth'))\n",
    "model.eval()  # Set the model to evaluation mode\n",
    "print(\"Model loaded!\")"
   ]
  },
  {
   "cell_type": "code",
   "execution_count": null,
   "id": "546363b5",
   "metadata": {},
   "outputs": [],
   "source": [
    "# Define a PyTorch model\n",
    "class RBMPyTorchModel(nn.Module):\n",
    "    def __init__(self):\n",
    "        super(RBMPyTorchModel, self).__init__()\n",
    "        self.rbm1 = nn.Linear(784, 364, bias=True)\n",
    "        self.rbm2 = nn.Linear(364, 91, bias=True)\n",
    "        self.rbm3 = nn.Linear(91, 45, bias=True)\n",
    "        \n",
    "        self.fc1 = nn.Linear(45, 10)\n",
    "\n",
    "    def forward(self, x):\n",
    "        x = torch.sigmoid(self.rbm1(x))\n",
    "        x = torch.sigmoid(self.rbm2(x))\n",
    "        x = torch.sigmoid(self.rbm3(x))\n",
    "        x = torch.nn.functional.silu(self.fc1(x))\n",
    "        return x\n",
    "\n",
    "# Create a PyTorch model\n",
    "model = RBMPyTorchModel()\n",
    "\n",
    "# Transfer parameters to PyTorch model\n",
    "with torch.no_grad():\n",
    "    model.rbm1.weight.copy_(torch.tensor(RBMs[0].components_.T.T))\n",
    "    model.rbm1.bias.copy_(torch.tensor(RBMs[0].intercept_hidden_))\n",
    "    \n",
    "    model.rbm2.weight.copy_(torch.tensor(RBMs[1].components_.T.T))\n",
    "    model.rbm2.bias.copy_(torch.tensor(RBMs[1].intercept_hidden_))\n",
    "    \n",
    "    model.rbm3.weight.copy_(torch.tensor(RBMs[2].components_.T.T))\n",
    "    model.rbm3.bias.copy_(torch.tensor(RBMs[2].intercept_hidden_))\n",
    "\n",
    "# Freeze the first 3 layers\n",
    "for param in model.rbm1.parameters():\n",
    "    param.requires_grad = False\n",
    "for param in model.rbm2.parameters():\n",
    "    param.requires_grad = False\n",
    "for param in model.rbm3.parameters():\n",
    "    param.requires_grad = False\n",
    "    \n",
    "print(model)"
   ]
  },
  {
   "cell_type": "code",
   "execution_count": null,
   "id": "17c77a27",
   "metadata": {},
   "outputs": [],
   "source": [
    "# Save the model\n",
    "torch.save(model.state_dict(), 'model_1.pth')\n",
    "print(\"Model saved!\")"
   ]
  },
  {
   "cell_type": "code",
   "execution_count": null,
   "id": "12254cd7",
   "metadata": {},
   "outputs": [],
   "source": [
    "# Plot the training and validation loss\n",
    "plt.figure(figsize=(10, 5))\n",
    "plt.plot(range(1, num_epochs + 1), train_losses1, label='Training Loss')\n",
    "plt.plot(range(1, num_epochs + 1), val_losses1, label='Validation Loss')\n",
    "plt.xlabel('Epochs')\n",
    "plt.ylabel('Loss')\n",
    "plt.title('Training and Validation Loss')\n",
    "plt.legend()\n",
    "plt.show()"
   ]
  },
  {
   "cell_type": "code",
   "execution_count": null,
   "id": "19530ee3",
   "metadata": {},
   "outputs": [],
   "source": [
    "# Ensure model is in evaluation mode\n",
    "model.eval()\n",
    "\n",
    "# Convert validation data to PyTorch tensor\n",
    "X_val = torch.tensor(X_labeled_validation, dtype=torch.float32)\n",
    "\n",
    "# Get raw logits from the model\n",
    "y_pred_logits = model(X_val)\n",
    "\n",
    "# Apply softmax to convert logits to probabilities\n",
    "y_pred_probs = F.softmax(y_pred_logits, dim=1)\n",
    "\n",
    "# Get the predicted classes (index of the max probability)\n",
    "y_pred_classes = torch.argmax(y_pred_probs, dim=1).numpy()\n",
    "\n",
    "# Get ground truth labels (convert to class indices if needed)\n",
    "y_true = y_labeled_validation\n",
    "if len(y_true.shape) > 1 and y_true.shape[1] > 1:  # Check if y_true is one-hot encoded\n",
    "    y_true = np.argmax(y_true, axis=1)\n",
    "\n",
    "# Compute confusion matrix\n",
    "conf_matrix = confusion_matrix(y_true, y_pred_classes)\n",
    "\n",
    "# Visualize the confusion matrix using seaborn\n",
    "plt.figure(figsize=(10, 8))\n",
    "sns.heatmap(conf_matrix, annot=True, fmt='d', cmap='Blues', xticklabels=range(conf_matrix.shape[1]), \n",
    "            yticklabels=range(conf_matrix.shape[0]))\n",
    "plt.xlabel('Predicted')\n",
    "plt.ylabel('True')\n",
    "plt.title('Confusion Matrix')\n",
    "plt.show()\n",
    "\n",
    "# Print classification report\n",
    "print(classification_report(y_true, y_pred_classes))"
   ]
  },
  {
   "cell_type": "markdown",
   "id": "9c8ee1d8",
   "metadata": {},
   "source": [
    "# Itteratie dead end 1"
   ]
  },
  {
   "cell_type": "code",
   "execution_count": null,
   "id": "867809ac",
   "metadata": {},
   "outputs": [],
   "source": [
    "hidden_sizes = [364, 91, 45, 10]"
   ]
  },
  {
   "cell_type": "code",
   "execution_count": null,
   "id": "0eb61be6",
   "metadata": {},
   "outputs": [],
   "source": [
    "inp = unlabeled_x\n",
    "RBMs = []\n",
    "for size in hidden_sizes:\n",
    "    rbm = BernoulliRBM(size, learning_rate = 0.2, batch_size = 500, n_iter = 100, random_state = 42, verbose=1)    \n",
    "    inp = rbm.fit_transform(inp)\n",
    "    RBMs.append(rbm)\n",
    "    print(f'Model (size = {size}) done!')"
   ]
  },
  {
   "cell_type": "code",
   "execution_count": null,
   "id": "e8821785",
   "metadata": {},
   "outputs": [],
   "source": [
    "with open('DBN_2B_D1.pickle', 'wb') as file:\n",
    "    pickle.dump(RBMs, file)"
   ]
  },
  {
   "cell_type": "code",
   "execution_count": null,
   "id": "f0362fc5",
   "metadata": {},
   "outputs": [],
   "source": [
    "with open('DBN_2B_D1.pickle', 'rb') as file:\n",
    "    RBMs = pickle.load(file)"
   ]
  },
  {
   "cell_type": "code",
   "execution_count": null,
   "id": "daef6bb7",
   "metadata": {},
   "outputs": [],
   "source": [
    "def sample(rbms, rng, ngibbs=20):\n",
    "\n",
    "    # Perform Gibbs sampling with the last RBM\n",
    "    v = rng.binomial(1, 0.2, size=hidden_sizes[-2])\n",
    "    for i in range(ngibbs):\n",
    "        v = rbms[-1].gibbs(v)\n",
    "\n",
    "    # Perform ancestral sampling for the other layers\n",
    "    for i in range(len(rbms)-2, -1, -1):\n",
    "        v = rbms[i]._sample_visibles(v, rng)\n",
    "    \n",
    "    return v"
   ]
  },
  {
   "cell_type": "code",
   "execution_count": null,
   "id": "76b9801f",
   "metadata": {},
   "outputs": [],
   "source": [
    "def makeplot(seed):\n",
    "    rng = np.random.RandomState(seed)\n",
    "\n",
    "    plt.figure(figsize=(50,20))\n",
    "    for i in range(10):\n",
    "        plt.subplot(2,5,i+1)\n",
    "        plt.imshow(sample(RBMs, rng).reshape(28,28), cmap='gray')\n",
    "        plt.axis('off')\n",
    "    plt.show()\n",
    "\n",
    "interactive(makeplot, seed=(0,10))"
   ]
  },
  {
   "cell_type": "code",
   "execution_count": null,
   "id": "9524aa33",
   "metadata": {},
   "outputs": [],
   "source": [
    "# Define a PyTorch model\n",
    "class RBMPyTorchModel(nn.Module):\n",
    "    def __init__(self):\n",
    "        super(RBMPyTorchModel, self).__init__()\n",
    "        self.rbm1 = nn.Linear(784, 364, bias=True)\n",
    "        self.rbm2 = nn.Linear(364, 91, bias=True)\n",
    "        self.rbm3 = nn.Linear(91, 45, bias=True)\n",
    "        self.rbm3 = nn.Linear(10, 10, bias=True)\n",
    "        \n",
    "        self.fc1 = nn.Linear(10, 10)\n",
    "\n",
    "    def forward(self, x):\n",
    "        x = torch.sigmoid(self.rbm1(x))\n",
    "        x = torch.sigmoid(self.rbm2(x))\n",
    "        x = torch.sigmoid(self.rbm3(x))\n",
    "        x = torch.sigmoid(self.rbm4(x))\n",
    "        x = torch.nn.functional.silu(self.fc1(x))\n",
    "        return x\n",
    "\n",
    "# Create a PyTorch model\n",
    "model = RBMPyTorchModel()\n",
    "\n",
    "# Transfer parameters to PyTorch model\n",
    "with torch.no_grad():\n",
    "    model.rbm1.weight.copy_(torch.tensor(RBMs[0].components_.T.T))\n",
    "    model.rbm1.bias.copy_(torch.tensor(RBMs[0].intercept_hidden_))\n",
    "    \n",
    "    model.rbm2.weight.copy_(torch.tensor(RBMs[1].components_.T.T))\n",
    "    model.rbm2.bias.copy_(torch.tensor(RBMs[1].intercept_hidden_))\n",
    "    \n",
    "    model.rbm3.weight.copy_(torch.tensor(RBMs[2].components_.T.T))\n",
    "    model.rbm3.bias.copy_(torch.tensor(RBMs[2].intercept_hidden_))\n",
    "\n",
    "    model.rbm3.weight.copy_(torch.tensor(RBMs[3].components_.T.T))\n",
    "    model.rbm3.bias.copy_(torch.tensor(RBMs[3].intercept_hidden_))\n",
    "\n",
    "# Freeze the first layers\n",
    "for param in model.rbm1.parameters():\n",
    "    param.requires_grad = False\n",
    "for param in model.rbm2.parameters():\n",
    "    param.requires_grad = False\n",
    "for param in model.rbm3.parameters():\n",
    "    param.requires_grad = False\n",
    "for param in model.rbm4.parameters():\n",
    "    param.requires_grad = False\n",
    "    \n",
    "print(model)"
   ]
  },
  {
   "cell_type": "code",
   "execution_count": null,
   "id": "1b87e309",
   "metadata": {},
   "outputs": [],
   "source": [
    "import torch\n",
    "import torch.nn as nn\n",
    "import torch.optim as optim\n",
    "from torch.utils.data import DataLoader, TensorDataset\n",
    "\n",
    "X_train = torch.tensor(X_labeled_train, dtype=torch.float32)\n",
    "y_train = torch.tensor(y_labeled_train, dtype=torch.float32)\n",
    "\n",
    "X_val = torch.tensor(X_labeled_validation, dtype=torch.float32)\n",
    "y_val = torch.tensor(y_labeled_validation, dtype=torch.float32)\n",
    "\n",
    "# Create TensorDataset\n",
    "train_dataset = TensorDataset(X_train, y_train)\n",
    "val_dataset = TensorDataset(X_val, y_val)\n",
    "\n",
    "# Create DataLoader\n",
    "train_loader = DataLoader(train_dataset, batch_size=2, shuffle=True)\n",
    "val_loader = DataLoader(val_dataset, batch_size=2, shuffle=False)\n",
    "\n",
    "# Define loss function and optimizer\n",
    "criterion = nn.CrossEntropyLoss()\n",
    "optimizer = optim.Adam(model.parameters(), lr=0.001)\n",
    "\n",
    "\n",
    "# Initialize lists to store loss and validation loss\n",
    "train_losses1 = []\n",
    "val_losses1 = []\n",
    "\n",
    "# Training loop\n",
    "num_epochs = 100\n",
    "for epoch in range(num_epochs):\n",
    "    train_loss = 0.0\n",
    "    for inputs, labels in train_loader:\n",
    "        # Zero the parameter gradients\n",
    "        optimizer.zero_grad()\n",
    "\n",
    "        # Forward pass\n",
    "        outputs = model(inputs)\n",
    "        loss = criterion(outputs, labels)\n",
    "        train_loss += loss.item()\n",
    "\n",
    "        # Backward pass and optimize\n",
    "        loss.backward()\n",
    "        optimizer.step()\n",
    "        \n",
    "    train_loss /= len(train_loader)\n",
    "    train_losses1.append(train_loss)\n",
    "\n",
    "    # Validation loop\n",
    "    model.eval()\n",
    "    val_loss = 0.0\n",
    "    with torch.no_grad():\n",
    "        for inputs, labels in val_loader:\n",
    "            outputs = model(inputs)\n",
    "            loss = criterion(outputs, labels)\n",
    "            val_loss += loss.item()\n",
    "\n",
    "    val_loss /= len(val_loader)\n",
    "    val_losses1.append(val_loss)\n",
    "    print(f'Epoch [{epoch+1}/{num_epochs}], Loss: {loss.item():.4f}, Val Loss: {val_loss:.4f}')\n",
    "\n",
    "print(\"Training complete!\")"
   ]
  },
  {
   "cell_type": "code",
   "execution_count": null,
   "id": "202c5fe5",
   "metadata": {},
   "outputs": [],
   "source": [
    "# Save the model\n",
    "torch.save(model.state_dict(), 'model_1.pth')\n",
    "print(\"Model saved!\")"
   ]
  },
  {
   "cell_type": "code",
   "execution_count": null,
   "id": "7615f112",
   "metadata": {},
   "outputs": [],
   "source": [
    "# Load the model\n",
    "model = RBMPyTorchModel()  # Replace with your model class\n",
    "model.load_state_dict(torch.load('model_1.pth'))\n",
    "model.eval()  # Set the model to evaluation mode\n",
    "print(\"Model loaded!\")"
   ]
  },
  {
   "cell_type": "code",
   "execution_count": null,
   "id": "cab08dea",
   "metadata": {},
   "outputs": [],
   "source": [
    "# Plot the training and validation loss\n",
    "plt.figure(figsize=(10, 5))\n",
    "plt.plot(range(1, num_epochs + 1), train_losses1, label='Training Loss')\n",
    "plt.plot(range(1, num_epochs + 1), val_losses1, label='Validation Loss')\n",
    "plt.xlabel('Epochs')\n",
    "plt.ylabel('Loss')\n",
    "plt.title('Training and Validation Loss')\n",
    "plt.legend()\n",
    "plt.show()"
   ]
  },
  {
   "cell_type": "code",
   "execution_count": null,
   "id": "cb0641b4",
   "metadata": {},
   "outputs": [],
   "source": [
    "# Ensure model is in evaluation mode\n",
    "model.eval()\n",
    "\n",
    "# Convert validation data to PyTorch tensor\n",
    "X_val = torch.tensor(X_labeled_validation, dtype=torch.float32)\n",
    "\n",
    "# Get raw logits from the model\n",
    "y_pred_logits = model(X_val)\n",
    "\n",
    "# Apply softmax to convert logits to probabilities\n",
    "y_pred_probs = F.softmax(y_pred_logits, dim=1)\n",
    "\n",
    "# Get the predicted classes (index of the max probability)\n",
    "y_pred_classes = torch.argmax(y_pred_probs, dim=1).numpy()\n",
    "\n",
    "# Get ground truth labels (convert to class indices if needed)\n",
    "y_true = y_labeled_validation\n",
    "if len(y_true.shape) > 1 and y_true.shape[1] > 1:  # Check if y_true is one-hot encoded\n",
    "    y_true = np.argmax(y_true, axis=1)\n",
    "\n",
    "# Compute confusion matrix\n",
    "conf_matrix = confusion_matrix(y_true, y_pred_classes)\n",
    "\n",
    "# Visualize the confusion matrix using seaborn\n",
    "plt.figure(figsize=(10, 8))\n",
    "sns.heatmap(conf_matrix, annot=True, fmt='d', cmap='Blues', xticklabels=range(conf_matrix.shape[1]), \n",
    "            yticklabels=range(conf_matrix.shape[0]))\n",
    "plt.xlabel('Predicted')\n",
    "plt.ylabel('True')\n",
    "plt.title('Confusion Matrix')\n",
    "plt.show()\n",
    "\n",
    "# Print classification report\n",
    "print(classification_report(y_true, y_pred_classes))"
   ]
  },
  {
   "cell_type": "markdown",
   "id": "197db1c5",
   "metadata": {},
   "source": [
    "# Itteratie 2"
   ]
  },
  {
   "cell_type": "code",
   "execution_count": 151,
   "id": "88ebfc24",
   "metadata": {},
   "outputs": [],
   "source": [
    "hidden_sizes = [364, 91, 45]"
   ]
  },
  {
   "cell_type": "code",
   "execution_count": 152,
   "id": "1f024c11",
   "metadata": {},
   "outputs": [
    {
     "name": "stdout",
     "output_type": "stream",
     "text": [
      "[BernoulliRBM] Iteration 1, pseudo-likelihood = -159.31, time = 4.56s\n",
      "[BernoulliRBM] Iteration 2, pseudo-likelihood = -124.88, time = 5.35s\n",
      "[BernoulliRBM] Iteration 3, pseudo-likelihood = -115.38, time = 5.36s\n",
      "[BernoulliRBM] Iteration 4, pseudo-likelihood = -107.03, time = 5.35s\n",
      "[BernoulliRBM] Iteration 5, pseudo-likelihood = -101.59, time = 5.38s\n",
      "[BernoulliRBM] Iteration 6, pseudo-likelihood = -97.75, time = 5.43s\n",
      "[BernoulliRBM] Iteration 7, pseudo-likelihood = -94.37, time = 5.47s\n",
      "[BernoulliRBM] Iteration 8, pseudo-likelihood = -91.28, time = 5.45s\n",
      "[BernoulliRBM] Iteration 9, pseudo-likelihood = -89.30, time = 5.49s\n",
      "[BernoulliRBM] Iteration 10, pseudo-likelihood = -88.11, time = 5.47s\n",
      "[BernoulliRBM] Iteration 11, pseudo-likelihood = -86.23, time = 5.45s\n",
      "[BernoulliRBM] Iteration 12, pseudo-likelihood = -84.56, time = 5.52s\n",
      "[BernoulliRBM] Iteration 13, pseudo-likelihood = -83.44, time = 5.53s\n",
      "[BernoulliRBM] Iteration 14, pseudo-likelihood = -82.11, time = 5.55s\n",
      "[BernoulliRBM] Iteration 15, pseudo-likelihood = -81.00, time = 5.57s\n",
      "[BernoulliRBM] Iteration 16, pseudo-likelihood = -81.09, time = 5.53s\n",
      "[BernoulliRBM] Iteration 17, pseudo-likelihood = -79.57, time = 5.52s\n",
      "[BernoulliRBM] Iteration 18, pseudo-likelihood = -78.90, time = 5.59s\n",
      "[BernoulliRBM] Iteration 19, pseudo-likelihood = -78.25, time = 5.58s\n",
      "[BernoulliRBM] Iteration 20, pseudo-likelihood = -76.59, time = 5.62s\n",
      "[BernoulliRBM] Iteration 21, pseudo-likelihood = -76.25, time = 5.60s\n",
      "[BernoulliRBM] Iteration 22, pseudo-likelihood = -75.45, time = 5.60s\n",
      "[BernoulliRBM] Iteration 23, pseudo-likelihood = -75.18, time = 5.63s\n",
      "[BernoulliRBM] Iteration 24, pseudo-likelihood = -74.55, time = 5.60s\n",
      "[BernoulliRBM] Iteration 25, pseudo-likelihood = -74.06, time = 5.59s\n",
      "[BernoulliRBM] Iteration 26, pseudo-likelihood = -73.70, time = 5.61s\n",
      "[BernoulliRBM] Iteration 27, pseudo-likelihood = -72.78, time = 5.63s\n",
      "[BernoulliRBM] Iteration 28, pseudo-likelihood = -72.70, time = 5.57s\n",
      "[BernoulliRBM] Iteration 29, pseudo-likelihood = -72.29, time = 5.63s\n",
      "[BernoulliRBM] Iteration 30, pseudo-likelihood = -72.33, time = 5.60s\n",
      "[BernoulliRBM] Iteration 31, pseudo-likelihood = -71.67, time = 5.58s\n",
      "[BernoulliRBM] Iteration 32, pseudo-likelihood = -71.59, time = 5.64s\n",
      "[BernoulliRBM] Iteration 33, pseudo-likelihood = -70.84, time = 5.59s\n",
      "[BernoulliRBM] Iteration 34, pseudo-likelihood = -70.82, time = 5.62s\n",
      "[BernoulliRBM] Iteration 35, pseudo-likelihood = -70.88, time = 5.61s\n",
      "[BernoulliRBM] Iteration 36, pseudo-likelihood = -70.85, time = 5.60s\n",
      "[BernoulliRBM] Iteration 37, pseudo-likelihood = -70.77, time = 5.60s\n",
      "[BernoulliRBM] Iteration 38, pseudo-likelihood = -70.40, time = 5.62s\n",
      "[BernoulliRBM] Iteration 39, pseudo-likelihood = -69.56, time = 5.63s\n",
      "[BernoulliRBM] Iteration 40, pseudo-likelihood = -69.08, time = 5.60s\n",
      "[BernoulliRBM] Iteration 41, pseudo-likelihood = -69.27, time = 5.60s\n",
      "[BernoulliRBM] Iteration 42, pseudo-likelihood = -69.19, time = 5.64s\n",
      "[BernoulliRBM] Iteration 43, pseudo-likelihood = -69.15, time = 5.62s\n",
      "[BernoulliRBM] Iteration 44, pseudo-likelihood = -68.91, time = 5.60s\n",
      "[BernoulliRBM] Iteration 45, pseudo-likelihood = -68.55, time = 5.62s\n",
      "[BernoulliRBM] Iteration 46, pseudo-likelihood = -68.51, time = 5.60s\n",
      "[BernoulliRBM] Iteration 47, pseudo-likelihood = -68.41, time = 5.63s\n",
      "[BernoulliRBM] Iteration 48, pseudo-likelihood = -67.93, time = 5.62s\n",
      "[BernoulliRBM] Iteration 49, pseudo-likelihood = -68.34, time = 5.39s\n",
      "[BernoulliRBM] Iteration 50, pseudo-likelihood = -67.56, time = 5.57s\n",
      "Model (size = 364) done!\n",
      "[BernoulliRBM] Iteration 1, pseudo-likelihood = -109.02, time = 1.58s\n",
      "[BernoulliRBM] Iteration 2, pseudo-likelihood = -94.16, time = 1.84s\n",
      "[BernoulliRBM] Iteration 3, pseudo-likelihood = -88.46, time = 1.86s\n",
      "[BernoulliRBM] Iteration 4, pseudo-likelihood = -84.19, time = 1.81s\n",
      "[BernoulliRBM] Iteration 5, pseudo-likelihood = -80.05, time = 1.82s\n",
      "[BernoulliRBM] Iteration 6, pseudo-likelihood = -77.15, time = 1.84s\n",
      "[BernoulliRBM] Iteration 7, pseudo-likelihood = -75.31, time = 1.82s\n",
      "[BernoulliRBM] Iteration 8, pseudo-likelihood = -74.60, time = 1.82s\n",
      "[BernoulliRBM] Iteration 9, pseudo-likelihood = -74.19, time = 1.81s\n",
      "[BernoulliRBM] Iteration 10, pseudo-likelihood = -73.37, time = 1.87s\n",
      "[BernoulliRBM] Iteration 11, pseudo-likelihood = -73.36, time = 1.84s\n",
      "[BernoulliRBM] Iteration 12, pseudo-likelihood = -72.74, time = 1.79s\n",
      "[BernoulliRBM] Iteration 13, pseudo-likelihood = -72.24, time = 1.78s\n",
      "[BernoulliRBM] Iteration 14, pseudo-likelihood = -72.43, time = 1.79s\n",
      "[BernoulliRBM] Iteration 15, pseudo-likelihood = -71.63, time = 1.81s\n",
      "[BernoulliRBM] Iteration 16, pseudo-likelihood = -71.22, time = 1.80s\n",
      "[BernoulliRBM] Iteration 17, pseudo-likelihood = -70.71, time = 1.79s\n",
      "[BernoulliRBM] Iteration 18, pseudo-likelihood = -69.88, time = 1.78s\n",
      "[BernoulliRBM] Iteration 19, pseudo-likelihood = -70.24, time = 1.80s\n",
      "[BernoulliRBM] Iteration 20, pseudo-likelihood = -69.79, time = 1.77s\n",
      "[BernoulliRBM] Iteration 21, pseudo-likelihood = -69.27, time = 1.77s\n",
      "[BernoulliRBM] Iteration 22, pseudo-likelihood = -69.40, time = 1.80s\n",
      "[BernoulliRBM] Iteration 23, pseudo-likelihood = -68.73, time = 1.80s\n",
      "[BernoulliRBM] Iteration 24, pseudo-likelihood = -69.13, time = 1.79s\n",
      "[BernoulliRBM] Iteration 25, pseudo-likelihood = -69.31, time = 1.82s\n",
      "[BernoulliRBM] Iteration 26, pseudo-likelihood = -68.20, time = 1.82s\n",
      "[BernoulliRBM] Iteration 27, pseudo-likelihood = -68.51, time = 1.77s\n",
      "[BernoulliRBM] Iteration 28, pseudo-likelihood = -68.37, time = 1.78s\n",
      "[BernoulliRBM] Iteration 29, pseudo-likelihood = -67.67, time = 1.78s\n",
      "[BernoulliRBM] Iteration 30, pseudo-likelihood = -68.19, time = 1.77s\n",
      "[BernoulliRBM] Iteration 31, pseudo-likelihood = -67.18, time = 1.79s\n",
      "[BernoulliRBM] Iteration 32, pseudo-likelihood = -67.65, time = 1.80s\n",
      "[BernoulliRBM] Iteration 33, pseudo-likelihood = -67.57, time = 1.79s\n",
      "[BernoulliRBM] Iteration 34, pseudo-likelihood = -67.22, time = 1.78s\n",
      "[BernoulliRBM] Iteration 35, pseudo-likelihood = -67.27, time = 1.75s\n",
      "[BernoulliRBM] Iteration 36, pseudo-likelihood = -67.48, time = 1.78s\n",
      "[BernoulliRBM] Iteration 37, pseudo-likelihood = -67.04, time = 1.77s\n",
      "[BernoulliRBM] Iteration 38, pseudo-likelihood = -66.70, time = 1.82s\n",
      "[BernoulliRBM] Iteration 39, pseudo-likelihood = -67.39, time = 1.81s\n",
      "[BernoulliRBM] Iteration 40, pseudo-likelihood = -66.84, time = 1.80s\n",
      "[BernoulliRBM] Iteration 41, pseudo-likelihood = -66.81, time = 1.78s\n",
      "[BernoulliRBM] Iteration 42, pseudo-likelihood = -66.53, time = 1.76s\n",
      "[BernoulliRBM] Iteration 43, pseudo-likelihood = -66.75, time = 1.76s\n",
      "[BernoulliRBM] Iteration 44, pseudo-likelihood = -66.53, time = 1.78s\n",
      "[BernoulliRBM] Iteration 45, pseudo-likelihood = -65.96, time = 1.81s\n",
      "[BernoulliRBM] Iteration 46, pseudo-likelihood = -66.34, time = 1.76s\n",
      "[BernoulliRBM] Iteration 47, pseudo-likelihood = -66.37, time = 1.77s\n",
      "[BernoulliRBM] Iteration 48, pseudo-likelihood = -66.76, time = 1.79s\n",
      "[BernoulliRBM] Iteration 49, pseudo-likelihood = -66.43, time = 1.80s\n",
      "[BernoulliRBM] Iteration 50, pseudo-likelihood = -66.17, time = 1.77s\n",
      "Model (size = 91) done!\n"
     ]
    }
   ],
   "source": [
    "inp = unlabeled_x\n",
    "RBMs = []\n",
    "for size in hidden_sizes:\n",
    "    rbm = BernoulliRBM(size, learning_rate = 0.2, batch_size = 500, n_iter = 50, random_state = 42, verbose=1)    \n",
    "    inp = rbm.fit_transform(inp)\n",
    "    RBMs.append(rbm)\n",
    "    print(f'Model (size = {size}) done!')"
   ]
  },
  {
   "cell_type": "code",
   "execution_count": null,
   "id": "26a2e5b1",
   "metadata": {},
   "outputs": [],
   "source": [
    "with open('DBN_2B_2.pickle', 'wb') as file:\n",
    "    pickle.dump(RBMs, file)"
   ]
  },
  {
   "cell_type": "code",
   "execution_count": null,
   "id": "94f6edfc",
   "metadata": {},
   "outputs": [],
   "source": [
    "with open('DBN_2B_2.pickle', 'rb') as file:\n",
    "    RBMs = pickle.load(file)"
   ]
  },
  {
   "cell_type": "code",
   "execution_count": 153,
   "id": "80290b86",
   "metadata": {},
   "outputs": [],
   "source": [
    "def sample(rbms, rng, ngibbs=20):\n",
    "\n",
    "    # Perform Gibbs sampling with the last RBM\n",
    "    v = rng.binomial(1, 0.2, size=hidden_sizes[-2])\n",
    "    for i in range(ngibbs):\n",
    "        v = rbms[-1].gibbs(v)\n",
    "\n",
    "    # Perform ancestral sampling for the other layers\n",
    "    for i in range(len(rbms)-2, -1, -1):\n",
    "        v = rbms[i]._sample_visibles(v, rng)\n",
    "    \n",
    "    return v"
   ]
  },
  {
   "cell_type": "code",
   "execution_count": 154,
   "id": "64fa0cbc",
   "metadata": {},
   "outputs": [
    {
     "data": {
      "application/vnd.jupyter.widget-view+json": {
       "model_id": "c54a23dc0b6b451cb4991e8c72cedb18",
       "version_major": 2,
       "version_minor": 0
      },
      "text/plain": [
       "interactive(children=(IntSlider(value=5, description='seed', max=10), Output()), _dom_classes=('widget-interac…"
      ]
     },
     "execution_count": 154,
     "metadata": {},
     "output_type": "execute_result"
    }
   ],
   "source": [
    "def makeplot(seed):\n",
    "    rng = np.random.RandomState(seed)\n",
    "\n",
    "    plt.figure(figsize=(50,20))\n",
    "    for i in range(10):\n",
    "        plt.subplot(2,5,i+1)\n",
    "        plt.imshow(sample(RBMs, rng).reshape(28,28), cmap='gray')\n",
    "        plt.axis('off')\n",
    "    plt.show()\n",
    "\n",
    "interactive(makeplot, seed=(0,10))"
   ]
  },
  {
   "cell_type": "code",
   "execution_count": 155,
   "id": "603922b9",
   "metadata": {},
   "outputs": [
    {
     "data": {
      "application/vnd.jupyter.widget-view+json": {
       "model_id": "f9fc46323d0d4f11bc5508376efa3e41",
       "version_major": 2,
       "version_minor": 0
      },
      "text/plain": [
       "interactive(children=(IntSlider(value=10, description='n', max=20), IntSlider(value=10, description='seed', ma…"
      ]
     },
     "execution_count": 155,
     "metadata": {},
     "output_type": "execute_result"
    }
   ],
   "source": [
    "def makeplot2(n, seed):\n",
    "    rng = np.random.RandomState(seed)\n",
    "    img = X_labeled_train[n]\n",
    "    plt.figure(figsize = (50,20))\n",
    "    plt.subplot(2,5,1)\n",
    "    plt.imshow(img.reshape(28,28), cmap='gray')\n",
    "    plt.axis('off')\n",
    "    for i in range(9):\n",
    "        x = img.reshape(1,-1)\n",
    "        for rbm in RBMs:\n",
    "            x = rbm._sample_hiddens(x,rng)\n",
    "        for rbm in reversed(RBMs):\n",
    "            x = rbm._sample_visibles(x,rng)\n",
    "        plt.subplot(2,5,i+2)\n",
    "        plt.imshow(x.reshape(28,28), cmap='gray')\n",
    "        plt.axis('off')\n",
    "    plt.show()\n",
    "    \n",
    "interactive(makeplot2, n=(0,20), seed = (0,20))"
   ]
  },
  {
   "cell_type": "code",
   "execution_count": 156,
   "id": "ed45290c",
   "metadata": {},
   "outputs": [
    {
     "name": "stdout",
     "output_type": "stream",
     "text": [
      "RBMPyTorchModel(\n",
      "  (rbm1): Linear(in_features=784, out_features=364, bias=True)\n",
      "  (rbm2): Linear(in_features=364, out_features=91, bias=True)\n",
      "  (fc1): Linear(in_features=91, out_features=10, bias=True)\n",
      ")\n"
     ]
    }
   ],
   "source": [
    "# Define a PyTorch model\n",
    "class RBMPyTorchModel(nn.Module):\n",
    "    def __init__(self):\n",
    "        super(RBMPyTorchModel, self).__init__()\n",
    "        self.rbm1 = nn.Linear(784, 364, bias=True)\n",
    "        self.rbm2 = nn.Linear(364, 91, bias=True)\n",
    "        self.rbm3 = nn.Linear(91, 45, bias=True)\n",
    "        \n",
    "        self.fc1 = nn.Linear(45, 10)\n",
    "\n",
    "    def forward(self, x):\n",
    "        x = torch.sigmoid(self.rbm1(x))\n",
    "        x = torch.sigmoid(self.rbm2(x))\n",
    "        x = torch.sigmoid(self.rbm3(x))\n",
    "        x = torch.nn.functional.silu(self.fc1(x))\n",
    "        return x\n",
    "\n",
    "# Create a PyTorch model\n",
    "model = RBMPyTorchModel()\n",
    "\n",
    "# Transfer parameters to PyTorch model\n",
    "with torch.no_grad():\n",
    "    model.rbm1.weight.copy_(torch.tensor(RBMs[0].components_.T.T))\n",
    "    model.rbm1.bias.copy_(torch.tensor(RBMs[0].intercept_hidden_))\n",
    "    \n",
    "    model.rbm2.weight.copy_(torch.tensor(RBMs[1].components_.T.T))\n",
    "    model.rbm2.bias.copy_(torch.tensor(RBMs[1].intercept_hidden_))\n",
    "    \n",
    "    model.rbm3.weight.copy_(torch.tensor(RBMs[2].components_.T.T))\n",
    "    model.rbm3.bias.copy_(torch.tensor(RBMs[2].intercept_hidden_))\n",
    "\n",
    "# Freeze the first layers\n",
    "for param in model.rbm1.parameters():\n",
    "    param.requires_grad = False\n",
    "for param in model.rbm2.parameters():\n",
    "    param.requires_grad = False\n",
    "for param in model.rbm3.parameters():\n",
    "    param.requires_grad = False\n",
    "    \n",
    "print(model)"
   ]
  },
  {
   "cell_type": "code",
   "execution_count": 157,
   "id": "b1b78452",
   "metadata": {},
   "outputs": [
    {
     "name": "stdout",
     "output_type": "stream",
     "text": [
      "Epoch [1/100], Loss: 1.6755, Val Loss: 1.7037\n",
      "Epoch [2/100], Loss: 1.2917, Val Loss: 1.0777\n",
      "Epoch [3/100], Loss: 1.0637, Val Loss: 0.7677\n",
      "Epoch [4/100], Loss: 0.9332, Val Loss: 0.6151\n",
      "Epoch [5/100], Loss: 0.8938, Val Loss: 0.5270\n",
      "Epoch [6/100], Loss: 0.8259, Val Loss: 0.4676\n",
      "Epoch [7/100], Loss: 0.8235, Val Loss: 0.4229\n",
      "Epoch [8/100], Loss: 0.7634, Val Loss: 0.3950\n",
      "Epoch [9/100], Loss: 0.6512, Val Loss: 0.3643\n",
      "Epoch [10/100], Loss: 0.6442, Val Loss: 0.3473\n",
      "Epoch [11/100], Loss: 0.6594, Val Loss: 0.3350\n",
      "Epoch [12/100], Loss: 0.6352, Val Loss: 0.3199\n",
      "Epoch [13/100], Loss: 0.5933, Val Loss: 0.3064\n",
      "Epoch [14/100], Loss: 0.5339, Val Loss: 0.2962\n",
      "Epoch [15/100], Loss: 0.5646, Val Loss: 0.2913\n",
      "Epoch [16/100], Loss: 0.4852, Val Loss: 0.2823\n",
      "Epoch [17/100], Loss: 0.5093, Val Loss: 0.2744\n",
      "Epoch [18/100], Loss: 0.4798, Val Loss: 0.2689\n",
      "Epoch [19/100], Loss: 0.4774, Val Loss: 0.2684\n",
      "Epoch [20/100], Loss: 0.5257, Val Loss: 0.2607\n",
      "Epoch [21/100], Loss: 0.4714, Val Loss: 0.2612\n",
      "Epoch [22/100], Loss: 0.4489, Val Loss: 0.2542\n",
      "Epoch [23/100], Loss: 0.4100, Val Loss: 0.2466\n",
      "Epoch [24/100], Loss: 0.4130, Val Loss: 0.2481\n",
      "Epoch [25/100], Loss: 0.4304, Val Loss: 0.2450\n",
      "Epoch [26/100], Loss: 0.3931, Val Loss: 0.2409\n",
      "Epoch [27/100], Loss: 0.4100, Val Loss: 0.2422\n",
      "Epoch [28/100], Loss: 0.3819, Val Loss: 0.2373\n",
      "Epoch [29/100], Loss: 0.3918, Val Loss: 0.2406\n",
      "Epoch [30/100], Loss: 0.3508, Val Loss: 0.2329\n",
      "Epoch [31/100], Loss: 0.3810, Val Loss: 0.2360\n",
      "Epoch [32/100], Loss: 0.3350, Val Loss: 0.2289\n",
      "Epoch [33/100], Loss: 0.3074, Val Loss: 0.2282\n",
      "Epoch [34/100], Loss: 0.3497, Val Loss: 0.2298\n",
      "Epoch [35/100], Loss: 0.3002, Val Loss: 0.2276\n",
      "Epoch [36/100], Loss: 0.3012, Val Loss: 0.2271\n",
      "Epoch [37/100], Loss: 0.2760, Val Loss: 0.2232\n",
      "Epoch [38/100], Loss: 0.3187, Val Loss: 0.2259\n",
      "Epoch [39/100], Loss: 0.2597, Val Loss: 0.2207\n",
      "Epoch [40/100], Loss: 0.3105, Val Loss: 0.2244\n",
      "Epoch [41/100], Loss: 0.2764, Val Loss: 0.2250\n",
      "Epoch [42/100], Loss: 0.2692, Val Loss: 0.2205\n",
      "Epoch [43/100], Loss: 0.2792, Val Loss: 0.2210\n",
      "Epoch [44/100], Loss: 0.2705, Val Loss: 0.2223\n",
      "Epoch [45/100], Loss: 0.2719, Val Loss: 0.2193\n",
      "Epoch [46/100], Loss: 0.2719, Val Loss: 0.2217\n",
      "Epoch [47/100], Loss: 0.2605, Val Loss: 0.2235\n",
      "Epoch [48/100], Loss: 0.2458, Val Loss: 0.2144\n",
      "Epoch [49/100], Loss: 0.2469, Val Loss: 0.2199\n",
      "Epoch [50/100], Loss: 0.2162, Val Loss: 0.2163\n",
      "Epoch [51/100], Loss: 0.2255, Val Loss: 0.2172\n",
      "Epoch [52/100], Loss: 0.2410, Val Loss: 0.2173\n",
      "Epoch [53/100], Loss: 0.2239, Val Loss: 0.2190\n",
      "Epoch [54/100], Loss: 0.2300, Val Loss: 0.2200\n",
      "Epoch [55/100], Loss: 0.2186, Val Loss: 0.2169\n",
      "Epoch [56/100], Loss: 0.2069, Val Loss: 0.2180\n",
      "Epoch [57/100], Loss: 0.2365, Val Loss: 0.2183\n",
      "Epoch [58/100], Loss: 0.2227, Val Loss: 0.2178\n",
      "Epoch [59/100], Loss: 0.2217, Val Loss: 0.2176\n",
      "Epoch [60/100], Loss: 0.2132, Val Loss: 0.2191\n",
      "Epoch [61/100], Loss: 0.2035, Val Loss: 0.2148\n",
      "Epoch [62/100], Loss: 0.2241, Val Loss: 0.2199\n",
      "Epoch [63/100], Loss: 0.2062, Val Loss: 0.2214\n",
      "Epoch [64/100], Loss: 0.2035, Val Loss: 0.2199\n",
      "Epoch [65/100], Loss: 0.1811, Val Loss: 0.2181\n",
      "Epoch [66/100], Loss: 0.1934, Val Loss: 0.2147\n",
      "Epoch [67/100], Loss: 0.2223, Val Loss: 0.2210\n",
      "Epoch [68/100], Loss: 0.1928, Val Loss: 0.2182\n",
      "Epoch [69/100], Loss: 0.1878, Val Loss: 0.2186\n",
      "Epoch [70/100], Loss: 0.1738, Val Loss: 0.2181\n",
      "Epoch [71/100], Loss: 0.1844, Val Loss: 0.2179\n",
      "Epoch [72/100], Loss: 0.1695, Val Loss: 0.2162\n",
      "Epoch [73/100], Loss: 0.1636, Val Loss: 0.2196\n",
      "Epoch [74/100], Loss: 0.1787, Val Loss: 0.2187\n",
      "Epoch [75/100], Loss: 0.1663, Val Loss: 0.2169\n",
      "Epoch [76/100], Loss: 0.1642, Val Loss: 0.2209\n",
      "Epoch [77/100], Loss: 0.1682, Val Loss: 0.2218\n",
      "Epoch [78/100], Loss: 0.1654, Val Loss: 0.2166\n",
      "Epoch [79/100], Loss: 0.1544, Val Loss: 0.2161\n",
      "Epoch [80/100], Loss: 0.1509, Val Loss: 0.2152\n",
      "Epoch [81/100], Loss: 0.1677, Val Loss: 0.2207\n",
      "Epoch [82/100], Loss: 0.1772, Val Loss: 0.2205\n",
      "Epoch [83/100], Loss: 0.1720, Val Loss: 0.2199\n",
      "Epoch [84/100], Loss: 0.1541, Val Loss: 0.2206\n",
      "Epoch [85/100], Loss: 0.1539, Val Loss: 0.2221\n",
      "Epoch [86/100], Loss: 0.1401, Val Loss: 0.2203\n",
      "Epoch [87/100], Loss: 0.1331, Val Loss: 0.2224\n",
      "Epoch [88/100], Loss: 0.1477, Val Loss: 0.2232\n",
      "Epoch [89/100], Loss: 0.1357, Val Loss: 0.2178\n",
      "Epoch [90/100], Loss: 0.1422, Val Loss: 0.2255\n",
      "Epoch [91/100], Loss: 0.1275, Val Loss: 0.2275\n",
      "Epoch [92/100], Loss: 0.1258, Val Loss: 0.2211\n",
      "Epoch [93/100], Loss: 0.1318, Val Loss: 0.2232\n",
      "Epoch [94/100], Loss: 0.1168, Val Loss: 0.2219\n",
      "Epoch [95/100], Loss: 0.1344, Val Loss: 0.2258\n",
      "Epoch [96/100], Loss: 0.1230, Val Loss: 0.2240\n",
      "Epoch [97/100], Loss: 0.1314, Val Loss: 0.2283\n",
      "Epoch [98/100], Loss: 0.1365, Val Loss: 0.2233\n",
      "Epoch [99/100], Loss: 0.1193, Val Loss: 0.2286\n",
      "Epoch [100/100], Loss: 0.1209, Val Loss: 0.2268\n",
      "Training complete!\n"
     ]
    }
   ],
   "source": [
    "import torch\n",
    "import torch.nn as nn\n",
    "import torch.optim as optim\n",
    "from torch.utils.data import DataLoader, TensorDataset\n",
    "\n",
    "X_train = torch.tensor(X_labeled_train, dtype=torch.float32)\n",
    "y_train = torch.tensor(y_labeled_train, dtype=torch.float32)\n",
    "\n",
    "X_val = torch.tensor(X_labeled_validation, dtype=torch.float32)\n",
    "y_val = torch.tensor(y_labeled_validation, dtype=torch.float32)\n",
    "\n",
    "# Create TensorDataset\n",
    "train_dataset = TensorDataset(X_train, y_train)\n",
    "val_dataset = TensorDataset(X_val, y_val)\n",
    "\n",
    "# Create DataLoader\n",
    "train_loader = DataLoader(train_dataset, batch_size=2, shuffle=True)\n",
    "val_loader = DataLoader(val_dataset, batch_size=2, shuffle=False)\n",
    "\n",
    "# Define loss function and optimizer\n",
    "criterion = nn.CrossEntropyLoss()\n",
    "optimizer = optim.Adam(model.parameters(), lr=0.001)\n",
    "\n",
    "# Initialize lists to store loss and validation loss\n",
    "train_losses2 = []\n",
    "val_losses2 = []\n",
    "\n",
    "# Training loop\n",
    "num_epochs = 100\n",
    "for epoch in range(num_epochs):\n",
    "    train_loss = 0.0\n",
    "    for inputs, labels in train_loader:\n",
    "        # Zero the parameter gradients\n",
    "        optimizer.zero_grad()\n",
    "\n",
    "        # Forward pass\n",
    "        outputs = model(inputs)\n",
    "        loss = criterion(outputs, labels)\n",
    "        train_loss += loss.item()\n",
    "\n",
    "        # Backward pass and optimize\n",
    "        loss.backward()\n",
    "        optimizer.step()\n",
    "        \n",
    "    train_loss /= len(train_loader)\n",
    "    train_losses2.append(train_loss)\n",
    "\n",
    "    # Validation loop\n",
    "    model.eval()\n",
    "    val_loss = 0.0\n",
    "    with torch.no_grad():\n",
    "        for inputs, labels in val_loader:\n",
    "            outputs = model(inputs)\n",
    "            loss = criterion(outputs, labels)\n",
    "            val_loss += loss.item()\n",
    "\n",
    "    val_loss /= len(val_loader)\n",
    "    val_losses2.append(val_loss)\n",
    "    print(f'Epoch [{epoch+1}/{num_epochs}], Loss: {loss.item():.4f}, Val Loss: {val_loss:.4f}')\n",
    "\n",
    "print(\"Training complete!\")"
   ]
  },
  {
   "cell_type": "code",
   "execution_count": null,
   "id": "5f762b53",
   "metadata": {},
   "outputs": [],
   "source": [
    "# Save the model\n",
    "torch.save(model.state_dict(), 'model_2.pth')\n",
    "print(\"Model saved!\")"
   ]
  },
  {
   "cell_type": "code",
   "execution_count": null,
   "id": "d423ba71",
   "metadata": {},
   "outputs": [],
   "source": [
    "# Load the model\n",
    "model = RBMPyTorchModel()  # Replace with your model class\n",
    "model.load_state_dict(torch.load('model_2.pth'))\n",
    "model.eval()  # Set the model to evaluation mode\n",
    "print(\"Model loaded!\")"
   ]
  },
  {
   "cell_type": "code",
   "execution_count": 158,
   "id": "226b9fb3",
   "metadata": {},
   "outputs": [
    {
     "data": {
      "image/png": "[encoded data removed]",
      "text/plain": [
       "<Figure size 1000x500 with 1 Axes>"
      ]
     },
     "metadata": {},
     "output_type": "display_data"
    }
   ],
   "source": [
    "# Plot the training and validation loss\n",
    "plt.figure(figsize=(10, 5))\n",
    "plt.plot(range(1, num_epochs + 1), train_losses2, label='Training Loss')\n",
    "plt.plot(range(1, num_epochs + 1), val_losses2, label='Validation Loss')\n",
    "plt.xlabel('Epochs')\n",
    "plt.ylabel('Loss')\n",
    "plt.title('Training and Validation Loss')\n",
    "plt.legend()\n",
    "plt.show()"
   ]
  },
  {
   "cell_type": "code",
   "execution_count": 159,
   "id": "ba0a0d7e",
   "metadata": {},
   "outputs": [
    {
     "data": {
      "image/png": "[encoded data removed]",
      "text/plain": [
       "<Figure size 1000x800 with 2 Axes>"
      ]
     },
     "metadata": {},
     "output_type": "display_data"
    },
    {
     "name": "stdout",
     "output_type": "stream",
     "text": [
      "              precision    recall  f1-score   support\n",
      "\n",
      "           0       1.00      1.00      1.00         7\n",
      "           1       1.00      0.71      0.83         7\n",
      "           2       0.88      0.88      0.88         8\n",
      "           3       0.83      1.00      0.91         5\n",
      "           4       0.86      1.00      0.92         6\n",
      "           5       0.67      0.50      0.57         4\n",
      "           6       0.89      1.00      0.94         8\n",
      "           7       0.92      0.92      0.92        12\n",
      "           8       0.86      1.00      0.92         6\n",
      "           9       0.91      0.83      0.87        12\n",
      "\n",
      "    accuracy                           0.89        75\n",
      "   macro avg       0.88      0.88      0.88        75\n",
      "weighted avg       0.90      0.89      0.89        75\n",
      "\n"
     ]
    }
   ],
   "source": [
    "# Ensure model is in evaluation mode\n",
    "model.eval()\n",
    "\n",
    "# Convert validation data to PyTorch tensor\n",
    "X_val = torch.tensor(X_labeled_validation, dtype=torch.float32)\n",
    "\n",
    "# Get raw logits from the model\n",
    "y_pred_logits = model(X_val)\n",
    "\n",
    "# Apply softmax to convert logits to probabilities\n",
    "y_pred_probs = F.softmax(y_pred_logits, dim=1)\n",
    "\n",
    "# Get the predicted classes (index of the max probability)\n",
    "y_pred_classes = torch.argmax(y_pred_probs, dim=1).numpy()\n",
    "\n",
    "# Get ground truth labels (convert to class indices if needed)\n",
    "y_true = y_labeled_validation\n",
    "if len(y_true.shape) > 1 and y_true.shape[1] > 1:  # Check if y_true is one-hot encoded\n",
    "    y_true = np.argmax(y_true, axis=1)\n",
    "\n",
    "# Compute confusion matrix\n",
    "conf_matrix = confusion_matrix(y_true, y_pred_classes)\n",
    "\n",
    "# Visualize the confusion matrix using seaborn\n",
    "plt.figure(figsize=(10, 8))\n",
    "sns.heatmap(conf_matrix, annot=True, fmt='d', cmap='Blues', xticklabels=range(conf_matrix.shape[1]), \n",
    "            yticklabels=range(conf_matrix.shape[0]))\n",
    "plt.xlabel('Predicted')\n",
    "plt.ylabel('True')\n",
    "plt.title('Confusion Matrix')\n",
    "plt.show()\n",
    "\n",
    "# Print classification report\n",
    "print(classification_report(y_true, y_pred_classes))"
   ]
  },
  {
   "cell_type": "markdown",
   "id": "0faa6d96",
   "metadata": {},
   "source": [
    "# Itteratie 3"
   ]
  },
  {
   "cell_type": "markdown",
   "id": "af38faa2",
   "metadata": {},
   "source": [
    "Do minimum size model: something like: random, 10"
   ]
  },
  {
   "cell_type": "code",
   "execution_count": 163,
   "id": "f1a0273b",
   "metadata": {},
   "outputs": [],
   "source": [
    "hidden_sizes = [364, 91]"
   ]
  },
  {
   "cell_type": "code",
   "execution_count": null,
   "id": "329c1ae1",
   "metadata": {},
   "outputs": [
    {
     "name": "stdout",
     "output_type": "stream",
     "text": [
      "[BernoulliRBM] Iteration 1, pseudo-likelihood = -159.31, time = 4.62s\n",
      "[BernoulliRBM] Iteration 2, pseudo-likelihood = -124.88, time = 5.42s\n",
      "[BernoulliRBM] Iteration 3, pseudo-likelihood = -115.38, time = 5.38s\n",
      "[BernoulliRBM] Iteration 4, pseudo-likelihood = -107.03, time = 5.38s\n",
      "[BernoulliRBM] Iteration 5, pseudo-likelihood = -101.59, time = 5.46s\n",
      "[BernoulliRBM] Iteration 6, pseudo-likelihood = -97.75, time = 5.49s\n",
      "[BernoulliRBM] Iteration 7, pseudo-likelihood = -94.37, time = 5.48s\n",
      "[BernoulliRBM] Iteration 8, pseudo-likelihood = -91.28, time = 5.42s\n",
      "[BernoulliRBM] Iteration 9, pseudo-likelihood = -89.30, time = 5.51s\n",
      "[BernoulliRBM] Iteration 10, pseudo-likelihood = -88.11, time = 5.50s\n",
      "[BernoulliRBM] Iteration 11, pseudo-likelihood = -86.23, time = 5.52s\n",
      "[BernoulliRBM] Iteration 12, pseudo-likelihood = -84.56, time = 5.51s\n",
      "[BernoulliRBM] Iteration 13, pseudo-likelihood = -83.44, time = 5.54s\n",
      "[BernoulliRBM] Iteration 14, pseudo-likelihood = -82.11, time = 5.53s\n",
      "[BernoulliRBM] Iteration 15, pseudo-likelihood = -81.00, time = 5.52s\n",
      "[BernoulliRBM] Iteration 16, pseudo-likelihood = -81.09, time = 5.52s\n",
      "[BernoulliRBM] Iteration 17, pseudo-likelihood = -79.57, time = 5.59s\n",
      "[BernoulliRBM] Iteration 18, pseudo-likelihood = -78.90, time = 5.59s\n",
      "[BernoulliRBM] Iteration 19, pseudo-likelihood = -78.25, time = 5.59s\n",
      "[BernoulliRBM] Iteration 20, pseudo-likelihood = -76.59, time = 5.62s\n",
      "[BernoulliRBM] Iteration 21, pseudo-likelihood = -76.25, time = 5.58s\n",
      "[BernoulliRBM] Iteration 22, pseudo-likelihood = -75.45, time = 5.62s\n",
      "[BernoulliRBM] Iteration 23, pseudo-likelihood = -75.18, time = 5.59s\n",
      "[BernoulliRBM] Iteration 24, pseudo-likelihood = -74.55, time = 5.61s\n",
      "[BernoulliRBM] Iteration 25, pseudo-likelihood = -74.06, time = 5.59s\n",
      "Model (size = 364) done!\n",
      "[BernoulliRBM] Iteration 1, pseudo-likelihood = -104.75, time = 1.63s\n",
      "[BernoulliRBM] Iteration 2, pseudo-likelihood = -87.20, time = 1.86s\n",
      "[BernoulliRBM] Iteration 3, pseudo-likelihood = -81.22, time = 1.84s\n",
      "[BernoulliRBM] Iteration 4, pseudo-likelihood = -76.67, time = 1.84s\n",
      "[BernoulliRBM] Iteration 5, pseudo-likelihood = -73.68, time = 1.82s\n",
      "[BernoulliRBM] Iteration 6, pseudo-likelihood = -71.34, time = 1.83s\n",
      "[BernoulliRBM] Iteration 7, pseudo-likelihood = -69.92, time = 1.82s\n",
      "[BernoulliRBM] Iteration 8, pseudo-likelihood = -69.30, time = 1.83s\n",
      "[BernoulliRBM] Iteration 9, pseudo-likelihood = -69.09, time = 1.80s\n",
      "[BernoulliRBM] Iteration 10, pseudo-likelihood = -68.97, time = 1.82s\n",
      "[BernoulliRBM] Iteration 11, pseudo-likelihood = -68.52, time = 1.81s\n",
      "[BernoulliRBM] Iteration 12, pseudo-likelihood = -69.00, time = 1.81s\n",
      "[BernoulliRBM] Iteration 13, pseudo-likelihood = -68.18, time = 1.84s\n",
      "[BernoulliRBM] Iteration 14, pseudo-likelihood = -68.24, time = 1.81s\n",
      "[BernoulliRBM] Iteration 15, pseudo-likelihood = -68.51, time = 1.81s\n",
      "[BernoulliRBM] Iteration 16, pseudo-likelihood = -67.62, time = 1.81s\n",
      "[BernoulliRBM] Iteration 17, pseudo-likelihood = -67.36, time = 1.80s\n",
      "[BernoulliRBM] Iteration 18, pseudo-likelihood = -66.73, time = 1.82s\n",
      "[BernoulliRBM] Iteration 19, pseudo-likelihood = -66.98, time = 1.79s\n",
      "[BernoulliRBM] Iteration 20, pseudo-likelihood = -66.68, time = 1.80s\n",
      "[BernoulliRBM] Iteration 21, pseudo-likelihood = -66.60, time = 1.80s\n",
      "[BernoulliRBM] Iteration 22, pseudo-likelihood = -66.38, time = 1.79s\n",
      "[BernoulliRBM] Iteration 23, pseudo-likelihood = -65.78, time = 1.79s\n",
      "[BernoulliRBM] Iteration 24, pseudo-likelihood = -66.23, time = 1.79s\n",
      "[BernoulliRBM] Iteration 25, pseudo-likelihood = -65.84, time = 1.79s\n",
      "Model (size = 91) done!\n"
     ]
    }
   ],
   "source": [
    "inp = unlabeled_x\n",
    "RBMs = []\n",
    "for size in hidden_sizes:\n",
    "    rbm = BernoulliRBM(size, learning_rate = 0.2, batch_size = 500, n_iter = 50, random_state = 42, verbose=1)    \n",
    "    inp = rbm.fit_transform(inp)\n",
    "    RBMs.append(rbm)\n",
    "    print(f'Model (size = {size}) done!')"
   ]
  },
  {
   "cell_type": "code",
   "execution_count": 92,
   "id": "82ede17a",
   "metadata": {},
   "outputs": [],
   "source": [
    "with open('DBN_2B_3.pickle', 'wb') as file:\n",
    "    pickle.dump(RBMs, file)"
   ]
  },
  {
   "cell_type": "code",
   "execution_count": 93,
   "id": "5f401b28",
   "metadata": {},
   "outputs": [],
   "source": [
    "with open('DBN_2B_3.pickle', 'rb') as file:\n",
    "    RBMs = pickle.load(file)"
   ]
  },
  {
   "cell_type": "code",
   "execution_count": 165,
   "id": "76745b72",
   "metadata": {},
   "outputs": [],
   "source": [
    "def sample(rbms, rng, ngibbs=20):\n",
    "\n",
    "    # Perform Gibbs sampling with the last RBM\n",
    "    v = rng.binomial(1, 0.2, size=hidden_sizes[-2])\n",
    "    for i in range(ngibbs):\n",
    "        v = rbms[-1].gibbs(v)\n",
    "\n",
    "    # Perform ancestral sampling for the other layers\n",
    "    for i in range(len(rbms)-2, -1, -1):\n",
    "        v = rbms[i]._sample_visibles(v, rng)\n",
    "    \n",
    "    return v"
   ]
  },
  {
   "cell_type": "code",
   "execution_count": 166,
   "id": "f7008346",
   "metadata": {},
   "outputs": [
    {
     "data": {
      "application/vnd.jupyter.widget-view+json": {
       "model_id": "22926110732e4abeaa8c3eaf3c95d7c8",
       "version_major": 2,
       "version_minor": 0
      },
      "text/plain": [
       "interactive(children=(IntSlider(value=5, description='seed', max=10), Output()), _dom_classes=('widget-interac…"
      ]
     },
     "execution_count": 166,
     "metadata": {},
     "output_type": "execute_result"
    }
   ],
   "source": [
    "def makeplot(seed):\n",
    "    rng = np.random.RandomState(seed)\n",
    "\n",
    "    plt.figure(figsize=(50,20))\n",
    "    for i in range(10):\n",
    "        plt.subplot(2,5,i+1)\n",
    "        plt.imshow(sample(RBMs, rng).reshape(28,28), cmap='gray')\n",
    "        plt.axis('off')\n",
    "    plt.show()\n",
    "\n",
    "interactive(makeplot, seed=(0,10))\n",
    "        "
   ]
  },
  {
   "cell_type": "code",
   "execution_count": 130,
   "id": "916b19ee",
   "metadata": {},
   "outputs": [
    {
     "data": {
      "application/vnd.jupyter.widget-view+json": {
       "model_id": "41c3fe507ca94608ab20399779e342cc",
       "version_major": 2,
       "version_minor": 0
      },
      "text/plain": [
       "interactive(children=(IntSlider(value=10, description='n', max=20), IntSlider(value=10, description='seed', ma…"
      ]
     },
     "execution_count": 130,
     "metadata": {},
     "output_type": "execute_result"
    }
   ],
   "source": [
    "def makeplot2(n, seed):\n",
    "    rng = np.random.RandomState(seed)\n",
    "    img = X_labeled_train[n]\n",
    "    plt.figure(figsize = (50,20))\n",
    "    plt.subplot(2,5,1)\n",
    "    plt.imshow(img.reshape(28,28), cmap='gray')\n",
    "    plt.axis('off')\n",
    "    for i in range(9):\n",
    "        x = img.reshape(1,-1)\n",
    "        for rbm in RBMs:\n",
    "            x = rbm._sample_hiddens(x,rng)\n",
    "        for rbm in reversed(RBMs):\n",
    "            x = rbm._sample_visibles(x,rng)\n",
    "        plt.subplot(2,5,i+2)\n",
    "        plt.imshow(x.reshape(28,28), cmap='gray')\n",
    "        plt.axis('off')\n",
    "    plt.show()\n",
    "    \n",
    "interactive(makeplot2, n=(0,20), seed = (0,20))"
   ]
  },
  {
   "cell_type": "markdown",
   "id": "57d5b5aa",
   "metadata": {},
   "source": [
    "Evaluate on the epochs."
   ]
  },
  {
   "cell_type": "markdown",
   "id": "13b3c3a0",
   "metadata": {},
   "source": [
    "Evaluate on the evaluation metrics (probably just lookit at the images ;)."
   ]
  },
  {
   "cell_type": "markdown",
   "id": "7ec04aaf",
   "metadata": {},
   "source": [
    "Add minimum size layers: 1, 10"
   ]
  },
  {
   "cell_type": "markdown",
   "id": "b5f6c3f7",
   "metadata": {},
   "source": [
    "Uitleggen waarom welke activatie functie gebruikt bij elke layer."
   ]
  },
  {
   "cell_type": "code",
   "execution_count": 135,
   "id": "80f76b16",
   "metadata": {},
   "outputs": [
    {
     "name": "stdout",
     "output_type": "stream",
     "text": [
      "RBMPyTorchModel(\n",
      "  (rbm1): Linear(in_features=784, out_features=364, bias=True)\n",
      "  (rbm2): Linear(in_features=364, out_features=91, bias=True)\n",
      "  (fc1): Linear(in_features=91, out_features=10, bias=True)\n",
      ")\n"
     ]
    }
   ],
   "source": [
    "# Define a PyTorch model\n",
    "class RBMPyTorchModel(nn.Module):\n",
    "    def __init__(self):\n",
    "        super(RBMPyTorchModel, self).__init__()\n",
    "        self.rbm1 = nn.Linear(784, 364, bias=True)\n",
    "        self.rbm2 = nn.Linear(364, 91, bias=True)\n",
    "        \n",
    "        self.fc1 = nn.Linear(91, 10)\n",
    "\n",
    "    def forward(self, x):\n",
    "        x = torch.sigmoid(self.rbm1(x))\n",
    "        x = torch.sigmoid(self.rbm2(x))\n",
    "        x = torch.nn.functional.silu(self.fc1(x))\n",
    "        return x\n",
    "\n",
    "# Create a PyTorch model\n",
    "model = RBMPyTorchModel()\n",
    "\n",
    "# Transfer parameters to PyTorch model\n",
    "with torch.no_grad():\n",
    "    model.rbm1.weight.copy_(torch.tensor(RBMs[0].components_.T.T))\n",
    "    model.rbm1.bias.copy_(torch.tensor(RBMs[0].intercept_hidden_))\n",
    "    \n",
    "    model.rbm2.weight.copy_(torch.tensor(RBMs[1].components_.T.T))\n",
    "    model.rbm2.bias.copy_(torch.tensor(RBMs[1].intercept_hidden_))\n",
    "\n",
    "# Freeze the first 4 layers\n",
    "for param in model.rbm1.parameters():\n",
    "    param.requires_grad = False\n",
    "for param in model.rbm2.parameters():\n",
    "    param.requires_grad = False\n",
    "    \n",
    "print(model)"
   ]
  },
  {
   "cell_type": "code",
   "execution_count": null,
   "id": "c9db677b",
   "metadata": {},
   "outputs": [
    {
     "name": "stdout",
     "output_type": "stream",
     "text": [
      "Epoch [1/100], Loss: 2.3060, Val Loss: 1.7989\n",
      "Epoch [2/100], Loss: 1.6989, Val Loss: 1.1288\n",
      "Epoch [3/100], Loss: 1.3971, Val Loss: 0.7984\n",
      "Epoch [4/100], Loss: 1.3062, Val Loss: 0.6419\n",
      "Epoch [5/100], Loss: 1.0393, Val Loss: 0.5337\n",
      "Epoch [6/100], Loss: 0.9506, Val Loss: 0.4756\n",
      "Epoch [7/100], Loss: 0.8632, Val Loss: 0.4288\n",
      "Epoch [8/100], Loss: 0.8472, Val Loss: 0.3993\n",
      "Epoch [9/100], Loss: 0.8069, Val Loss: 0.3754\n",
      "Epoch [10/100], Loss: 0.7106, Val Loss: 0.3525\n",
      "Epoch [11/100], Loss: 0.6399, Val Loss: 0.3302\n",
      "Epoch [12/100], Loss: 0.5475, Val Loss: 0.3153\n",
      "Epoch [13/100], Loss: 0.6059, Val Loss: 0.3085\n",
      "Epoch [14/100], Loss: 0.5420, Val Loss: 0.2957\n",
      "Epoch [15/100], Loss: 0.5472, Val Loss: 0.2864\n",
      "Epoch [16/100], Loss: 0.5323, Val Loss: 0.2784\n",
      "Epoch [17/100], Loss: 0.5181, Val Loss: 0.2752\n",
      "Epoch [18/100], Loss: 0.5261, Val Loss: 0.2707\n",
      "Epoch [19/100], Loss: 0.4960, Val Loss: 0.2640\n",
      "Epoch [20/100], Loss: 0.4998, Val Loss: 0.2607\n",
      "Epoch [21/100], Loss: 0.4780, Val Loss: 0.2565\n",
      "Epoch [22/100], Loss: 0.4632, Val Loss: 0.2539\n",
      "Epoch [23/100], Loss: 0.4440, Val Loss: 0.2507\n",
      "Epoch [24/100], Loss: 0.4054, Val Loss: 0.2450\n",
      "Epoch [25/100], Loss: 0.3730, Val Loss: 0.2401\n",
      "Epoch [26/100], Loss: 0.3526, Val Loss: 0.2344\n",
      "Epoch [27/100], Loss: 0.3401, Val Loss: 0.2343\n",
      "Epoch [28/100], Loss: 0.3335, Val Loss: 0.2316\n",
      "Epoch [29/100], Loss: 0.3133, Val Loss: 0.2285\n",
      "Epoch [30/100], Loss: 0.3483, Val Loss: 0.2344\n",
      "Epoch [31/100], Loss: 0.3032, Val Loss: 0.2250\n",
      "Epoch [32/100], Loss: 0.3115, Val Loss: 0.2264\n",
      "Epoch [33/100], Loss: 0.3006, Val Loss: 0.2216\n",
      "Epoch [34/100], Loss: 0.2917, Val Loss: 0.2247\n",
      "Epoch [35/100], Loss: 0.2656, Val Loss: 0.2202\n",
      "Epoch [36/100], Loss: 0.2609, Val Loss: 0.2197\n",
      "Epoch [37/100], Loss: 0.2511, Val Loss: 0.2227\n",
      "Epoch [38/100], Loss: 0.2430, Val Loss: 0.2207\n",
      "Epoch [39/100], Loss: 0.2777, Val Loss: 0.2188\n",
      "Epoch [40/100], Loss: 0.2526, Val Loss: 0.2187\n",
      "Epoch [41/100], Loss: 0.2354, Val Loss: 0.2178\n",
      "Epoch [42/100], Loss: 0.2179, Val Loss: 0.2155\n",
      "Epoch [43/100], Loss: 0.2289, Val Loss: 0.2166\n",
      "Epoch [44/100], Loss: 0.2040, Val Loss: 0.2135\n",
      "Epoch [45/100], Loss: 0.2041, Val Loss: 0.2148\n",
      "Epoch [46/100], Loss: 0.2177, Val Loss: 0.2145\n",
      "Epoch [47/100], Loss: 0.1899, Val Loss: 0.2122\n",
      "Epoch [48/100], Loss: 0.1960, Val Loss: 0.2133\n",
      "Epoch [49/100], Loss: 0.2021, Val Loss: 0.2147\n",
      "Epoch [50/100], Loss: 0.1605, Val Loss: 0.2086\n",
      "Epoch [51/100], Loss: 0.1851, Val Loss: 0.2121\n",
      "Epoch [52/100], Loss: 0.1589, Val Loss: 0.2081\n",
      "Epoch [53/100], Loss: 0.1651, Val Loss: 0.2114\n",
      "Epoch [54/100], Loss: 0.1537, Val Loss: 0.2101\n",
      "Epoch [55/100], Loss: 0.1751, Val Loss: 0.2113\n",
      "Epoch [56/100], Loss: 0.1670, Val Loss: 0.2075\n",
      "Epoch [57/100], Loss: 0.1522, Val Loss: 0.2107\n",
      "Epoch [58/100], Loss: 0.1563, Val Loss: 0.2078\n",
      "Epoch [59/100], Loss: 0.1502, Val Loss: 0.2133\n",
      "Epoch [60/100], Loss: 0.1580, Val Loss: 0.2138\n",
      "Epoch [61/100], Loss: 0.1577, Val Loss: 0.2124\n",
      "Epoch [62/100], Loss: 0.1292, Val Loss: 0.2134\n",
      "Epoch [63/100], Loss: 0.1285, Val Loss: 0.2086\n",
      "Epoch [64/100], Loss: 0.1313, Val Loss: 0.2130\n",
      "Epoch [65/100], Loss: 0.1408, Val Loss: 0.2129\n",
      "Epoch [66/100], Loss: 0.1347, Val Loss: 0.2103\n",
      "Epoch [67/100], Loss: 0.1203, Val Loss: 0.2086\n",
      "Epoch [68/100], Loss: 0.1258, Val Loss: 0.2126\n",
      "Epoch [69/100], Loss: 0.1332, Val Loss: 0.2133\n",
      "Epoch [70/100], Loss: 0.1320, Val Loss: 0.2133\n",
      "Epoch [71/100], Loss: 0.1103, Val Loss: 0.2100\n",
      "Epoch [72/100], Loss: 0.1009, Val Loss: 0.2091\n",
      "Epoch [73/100], Loss: 0.1059, Val Loss: 0.2102\n",
      "Epoch [74/100], Loss: 0.1126, Val Loss: 0.2151\n",
      "Epoch [75/100], Loss: 0.1040, Val Loss: 0.2139\n",
      "Epoch [76/100], Loss: 0.1077, Val Loss: 0.2188\n",
      "Epoch [77/100], Loss: 0.1081, Val Loss: 0.2167\n",
      "Epoch [78/100], Loss: 0.0931, Val Loss: 0.2136\n",
      "Epoch [79/100], Loss: 0.0994, Val Loss: 0.2158\n",
      "Epoch [80/100], Loss: 0.0939, Val Loss: 0.2159\n",
      "Epoch [81/100], Loss: 0.0923, Val Loss: 0.2164\n",
      "Epoch [82/100], Loss: 0.0899, Val Loss: 0.2146\n",
      "Epoch [83/100], Loss: 0.0903, Val Loss: 0.2165\n",
      "Epoch [84/100], Loss: 0.1035, Val Loss: 0.2187\n",
      "Epoch [85/100], Loss: 0.0863, Val Loss: 0.2143\n",
      "Epoch [86/100], Loss: 0.0775, Val Loss: 0.2152\n",
      "Epoch [87/100], Loss: 0.0801, Val Loss: 0.2183\n",
      "Epoch [88/100], Loss: 0.0806, Val Loss: 0.2186\n",
      "Epoch [89/100], Loss: 0.0869, Val Loss: 0.2186\n",
      "Epoch [90/100], Loss: 0.0815, Val Loss: 0.2145\n",
      "Epoch [91/100], Loss: 0.0756, Val Loss: 0.2197\n",
      "Epoch [92/100], Loss: 0.0804, Val Loss: 0.2177\n",
      "Epoch [93/100], Loss: 0.0855, Val Loss: 0.2181\n",
      "Epoch [94/100], Loss: 0.0771, Val Loss: 0.2206\n",
      "Epoch [95/100], Loss: 0.0687, Val Loss: 0.2215\n",
      "Epoch [96/100], Loss: 0.0811, Val Loss: 0.2242\n",
      "Epoch [97/100], Loss: 0.0801, Val Loss: 0.2250\n",
      "Epoch [98/100], Loss: 0.0687, Val Loss: 0.2195\n",
      "Epoch [99/100], Loss: 0.0743, Val Loss: 0.2214\n",
      "Epoch [100/100], Loss: 0.0748, Val Loss: 0.2229\n",
      "Training complete!\n"
     ]
    }
   ],
   "source": [
    "import torch\n",
    "import torch.nn as nn\n",
    "import torch.optim as optim\n",
    "from torch.utils.data import DataLoader, TensorDataset\n",
    "\n",
    "X_train = torch.tensor(X_labeled_train, dtype=torch.float32)\n",
    "y_train = torch.tensor(y_labeled_train, dtype=torch.float32)\n",
    "\n",
    "X_val = torch.tensor(X_labeled_validation, dtype=torch.float32)\n",
    "y_val = torch.tensor(y_labeled_validation, dtype=torch.float32)\n",
    "\n",
    "# Create TensorDataset\n",
    "train_dataset = TensorDataset(X_train, y_train)\n",
    "val_dataset = TensorDataset(X_val, y_val)\n",
    "\n",
    "# Create DataLoader\n",
    "train_loader = DataLoader(train_dataset, batch_size=2, shuffle=True)\n",
    "val_loader = DataLoader(val_dataset, batch_size=2, shuffle=False)\n",
    "\n",
    "# Define loss function and optimizer\n",
    "criterion = nn.CrossEntropyLoss()\n",
    "optimizer = optim.Adam(model.parameters(), lr=0.001)\n",
    "\n",
    "# Initialize lists to store loss and validation loss\n",
    "train_losses2 = []\n",
    "val_losses2 = []\n",
    "\n",
    "# Training loop\n",
    "num_epochs = 100\n",
    "for epoch in range(num_epochs):\n",
    "    train_loss = 0.0\n",
    "    for inputs, labels in train_loader:\n",
    "        # Zero the parameter gradients\n",
    "        optimizer.zero_grad()\n",
    "\n",
    "        # Forward pass\n",
    "        outputs = model(inputs)\n",
    "        loss = criterion(outputs, labels)\n",
    "        train_loss += loss.item()\n",
    "\n",
    "        # Backward pass and optimize\n",
    "        loss.backward()\n",
    "        optimizer.step()\n",
    "        \n",
    "    train_loss /= len(train_loader)\n",
    "    train_losses2.append(train_loss)\n",
    "\n",
    "    # Validation loop\n",
    "    model.eval()\n",
    "    val_loss = 0.0\n",
    "    with torch.no_grad():\n",
    "        for inputs, labels in val_loader:\n",
    "            outputs = model(inputs)\n",
    "            loss = criterion(outputs, labels)\n",
    "            val_loss += loss.item()\n",
    "\n",
    "    val_loss /= len(val_loader)\n",
    "    val_losses2.append(val_loss)\n",
    "    print(f'Epoch [{epoch+1}/{num_epochs}], Loss: {loss.item():.4f}, Val Loss: {val_loss:.4f}')\n",
    "\n",
    "print(\"Training complete!\")"
   ]
  },
  {
   "cell_type": "code",
   "execution_count": 99,
   "id": "744d2f85",
   "metadata": {},
   "outputs": [
    {
     "name": "stdout",
     "output_type": "stream",
     "text": [
      "Model saved!\n"
     ]
    }
   ],
   "source": [
    "# Save the model\n",
    "torch.save(model.state_dict(), 'model_3.pth')\n",
    "print(\"Model saved!\")"
   ]
  },
  {
   "cell_type": "code",
   "execution_count": 100,
   "id": "3cae104d",
   "metadata": {},
   "outputs": [
    {
     "name": "stdout",
     "output_type": "stream",
     "text": [
      "Model loaded!\n"
     ]
    },
    {
     "name": "stderr",
     "output_type": "stream",
     "text": [
      "C:\\Users\\jelma\\AppData\\Local\\Temp\\ipykernel_9132\\1777792011.py:3: FutureWarning: You are using `torch.load` with `weights_only=False` (the current default value), which uses the default pickle module implicitly. It is possible to construct malicious pickle data which will execute arbitrary code during unpickling (See https://github.com/pytorch/pytorch/blob/main/SECURITY.md#untrusted-models for more details). In a future release, the default value for `weights_only` will be flipped to `True`. This limits the functions that could be executed during unpickling. Arbitrary objects will no longer be allowed to be loaded via this mode unless they are explicitly allowlisted by the user via `torch.serialization.add_safe_globals`. We recommend you start setting `weights_only=True` for any use case where you don't have full control of the loaded file. Please open an issue on GitHub for any issues related to this experimental feature.\n",
      "  model.load_state_dict(torch.load('model_2.pth'))\n"
     ]
    }
   ],
   "source": [
    "# Load the model\n",
    "model = RBMPyTorchModel()  # Replace with your model class\n",
    "model.load_state_dict(torch.load('model_3.pth'))\n",
    "model.eval()  # Set the model to evaluation mode\n",
    "print(\"Model loaded!\")"
   ]
  },
  {
   "cell_type": "code",
   "execution_count": 101,
   "id": "a2ba026d",
   "metadata": {},
   "outputs": [
    {
     "data": {
      "image/png": "[encoded data removed]",
      "text/plain": [
       "<Figure size 1000x500 with 1 Axes>"
      ]
     },
     "metadata": {},
     "output_type": "display_data"
    }
   ],
   "source": [
    "# Plot the training and validation loss\n",
    "plt.figure(figsize=(10, 5))\n",
    "plt.plot(range(1, num_epochs + 1), train_losses2, label='Training Loss')\n",
    "plt.plot(range(1, num_epochs + 1), val_losses2, label='Validation Loss')\n",
    "plt.xlabel('Epochs')\n",
    "plt.ylabel('Loss')\n",
    "plt.title('Training and Validation Loss')\n",
    "plt.legend()\n",
    "plt.show()"
   ]
  },
  {
   "cell_type": "markdown",
   "id": "b2ef8e1b",
   "metadata": {},
   "source": [
    "Evaluate on the epochs."
   ]
  },
  {
   "cell_type": "markdown",
   "id": "bd9ee36a",
   "metadata": {},
   "source": [
    "Explain why the optimizer."
   ]
  },
  {
   "cell_type": "markdown",
   "id": "202de88e",
   "metadata": {},
   "source": [
    "Evaluate on learning rate."
   ]
  },
  {
   "cell_type": "code",
   "execution_count": null,
   "id": "e8256a0d",
   "metadata": {},
   "outputs": [
    {
     "data": {
      "image/png": "[encoded data removed]",
      "text/plain": [
       "<Figure size 1000x800 with 2 Axes>"
      ]
     },
     "metadata": {},
     "output_type": "display_data"
    },
    {
     "name": "stdout",
     "output_type": "stream",
     "text": [
      "              precision    recall  f1-score   support\n",
      "\n",
      "           0       1.00      1.00      1.00         7\n",
      "           1       1.00      0.71      0.83         7\n",
      "           2       0.88      0.88      0.88         8\n",
      "           3       0.83      1.00      0.91         5\n",
      "           4       0.86      1.00      0.92         6\n",
      "           5       0.67      0.50      0.57         4\n",
      "           6       0.89      1.00      0.94         8\n",
      "           7       0.92      1.00      0.96        12\n",
      "           8       0.86      1.00      0.92         6\n",
      "           9       1.00      0.83      0.91        12\n",
      "\n",
      "    accuracy                           0.91        75\n",
      "   macro avg       0.89      0.89      0.88        75\n",
      "weighted avg       0.91      0.91      0.90        75\n",
      "\n"
     ]
    }
   ],
   "source": [
    "# Ensure model is in evaluation mode\n",
    "model.eval()\n",
    "\n",
    "# Convert validation data to PyTorch tensor\n",
    "X_val = torch.tensor(X_labeled_validation, dtype=torch.float32)\n",
    "\n",
    "# Get raw logits from the model\n",
    "y_pred_logits = model(X_val)\n",
    "\n",
    "# Apply softmax to convert logits to probabilities\n",
    "y_pred_probs = F.softmax(y_pred_logits, dim=1)\n",
    "\n",
    "# Get the predicted classes (index of the max probability)\n",
    "y_pred_classes = torch.argmax(y_pred_probs, dim=1).numpy()\n",
    "\n",
    "# Get ground truth labels (convert to class indices if needed)\n",
    "y_true = y_labeled_validation\n",
    "if len(y_true.shape) > 1 and y_true.shape[1] > 1:  # Check if y_true is one-hot encoded\n",
    "    y_true = np.argmax(y_true, axis=1)\n",
    "\n",
    "# Compute confusion matrix\n",
    "conf_matrix = confusion_matrix(y_true, y_pred_classes)\n",
    "\n",
    "# Visualize the confusion matrix using seaborn\n",
    "plt.figure(figsize=(10, 8))\n",
    "sns.heatmap(conf_matrix, annot=True, fmt='d', cmap='Blues', xticklabels=range(conf_matrix.shape[1]), \n",
    "            yticklabels=range(conf_matrix.shape[0]))\n",
    "plt.xlabel('Predicted')\n",
    "plt.ylabel('True')\n",
    "plt.title('Confusion Matrix')\n",
    "plt.show()\n",
    "\n",
    "# Print classification report\n",
    "print(classification_report(y_true, y_pred_classes))\n"
   ]
  },
  {
   "cell_type": "markdown",
   "id": "3f7035db",
   "metadata": {},
   "source": [
    "# Itteratie 4"
   ]
  },
  {
   "cell_type": "code",
   "execution_count": null,
   "id": "8ec9f7b7",
   "metadata": {},
   "outputs": [],
   "source": [
    "hidden_sizes = [364, 91]"
   ]
  },
  {
   "cell_type": "code",
   "execution_count": null,
   "id": "eda09778",
   "metadata": {},
   "outputs": [],
   "source": [
    "inp = unlabeled_x\n",
    "RBMs = []\n",
    "for size in hidden_sizes:\n",
    "    rbm = BernoulliRBM(size, learning_rate = 0.2, batch_size = 500, n_iter = 25, random_state = 42, verbose=1)    \n",
    "    inp = rbm.fit_transform(inp)\n",
    "    RBMs.append(rbm)\n",
    "    print(f'Model (size = {size}) done!')"
   ]
  },
  {
   "cell_type": "code",
   "execution_count": null,
   "id": "12f681bd",
   "metadata": {},
   "outputs": [],
   "source": [
    "with open('DBN_2B_4.pickle', 'wb') as file:\n",
    "    pickle.dump(RBMs, file)"
   ]
  },
  {
   "cell_type": "code",
   "execution_count": null,
   "id": "7fa6ede2",
   "metadata": {},
   "outputs": [],
   "source": [
    "with open('DBN_2B_4.pickle', 'rb') as file:\n",
    "    RBMs = pickle.load(file)"
   ]
  },
  {
   "cell_type": "code",
   "execution_count": null,
   "id": "f962e618",
   "metadata": {},
   "outputs": [],
   "source": [
    "def sample(rbms, rng, ngibbs=20):\n",
    "\n",
    "    # Perform Gibbs sampling with the last RBM\n",
    "    v = rng.binomial(1, 0.2, size=hidden_sizes[-2])\n",
    "    for i in range(ngibbs):\n",
    "        v = rbms[-1].gibbs(v)\n",
    "\n",
    "    # Perform ancestral sampling for the other layers\n",
    "    for i in range(len(rbms)-2, -1, -1):\n",
    "        v = rbms[i]._sample_visibles(v, rng)\n",
    "    \n",
    "    return v"
   ]
  },
  {
   "cell_type": "code",
   "execution_count": null,
   "id": "b4c338ff",
   "metadata": {},
   "outputs": [],
   "source": [
    "def makeplot(seed):\n",
    "    rng = np.random.RandomState(seed)\n",
    "\n",
    "    plt.figure(figsize=(50,20))\n",
    "    for i in range(10):\n",
    "        plt.subplot(2,5,i+1)\n",
    "        plt.imshow(sample(RBMs, rng).reshape(28,28), cmap='gray')\n",
    "        plt.axis('off')\n",
    "    plt.show()\n",
    "\n",
    "interactive(makeplot, seed=(0,10))"
   ]
  },
  {
   "cell_type": "code",
   "execution_count": null,
   "id": "8d6353e7",
   "metadata": {},
   "outputs": [],
   "source": [
    "def makeplot2(n, seed):\n",
    "    rng = np.random.RandomState(seed)\n",
    "    img = X_labeled_train[n]\n",
    "    plt.figure(figsize = (50,20))\n",
    "    plt.subplot(2,5,1)\n",
    "    plt.imshow(img.reshape(28,28), cmap='gray')\n",
    "    plt.axis('off')\n",
    "    for i in range(9):\n",
    "        x = img.reshape(1,-1)\n",
    "        for rbm in RBMs:\n",
    "            x = rbm._sample_hiddens(x,rng)\n",
    "        for rbm in reversed(RBMs):\n",
    "            x = rbm._sample_visibles(x,rng)\n",
    "        plt.subplot(2,5,i+2)\n",
    "        plt.imshow(x.reshape(28,28), cmap='gray')\n",
    "        plt.axis('off')\n",
    "    plt.show()\n",
    "    \n",
    "interactive(makeplot2, n=(0,20), seed = (0,20))"
   ]
  },
  {
   "cell_type": "code",
   "execution_count": null,
   "id": "9581328f",
   "metadata": {},
   "outputs": [],
   "source": [
    "# Define a PyTorch model\n",
    "class RBMPyTorchModel(nn.Module):\n",
    "    def __init__(self):\n",
    "        super(RBMPyTorchModel, self).__init__()\n",
    "        self.rbm1 = nn.Linear(784, 364, bias=True)\n",
    "        self.rbm2 = nn.Linear(364, 91, bias=True)\n",
    "        \n",
    "        # self.fc1 = nn.Linear(10, 10)\n",
    "        self.fc1 = nn.Linear(91, 10)\n",
    "\n",
    "    def forward(self, x):\n",
    "        x = torch.sigmoid(self.rbm1(x))\n",
    "        x = torch.sigmoid(self.rbm2(x))\n",
    "        x = torch.nn.functional.silu(self.fc1(x))\n",
    "        return x\n",
    "\n",
    "# Create a PyTorch model\n",
    "model = RBMPyTorchModel()\n",
    "\n",
    "# Transfer parameters to PyTorch model\n",
    "with torch.no_grad():\n",
    "    model.rbm1.weight.copy_(torch.tensor(RBMs[0].components_.T.T))\n",
    "    model.rbm1.bias.copy_(torch.tensor(RBMs[0].intercept_hidden_))\n",
    "    \n",
    "    model.rbm2.weight.copy_(torch.tensor(RBMs[1].components_.T.T))\n",
    "    model.rbm2.bias.copy_(torch.tensor(RBMs[1].intercept_hidden_))\n",
    "\n",
    "# Freeze the first 4 layers\n",
    "for param in model.rbm1.parameters():\n",
    "    param.requires_grad = False\n",
    "for param in model.rbm2.parameters():\n",
    "    param.requires_grad = False\n",
    "    \n",
    "print(model)"
   ]
  },
  {
   "cell_type": "code",
   "execution_count": null,
   "id": "950152ab",
   "metadata": {},
   "outputs": [],
   "source": [
    "import torch\n",
    "import torch.nn as nn\n",
    "import torch.optim as optim\n",
    "from torch.utils.data import DataLoader, TensorDataset\n",
    "\n",
    "X_train = torch.tensor(X_labeled_train, dtype=torch.float32)\n",
    "y_train = torch.tensor(y_labeled_train, dtype=torch.float32)\n",
    "\n",
    "X_val = torch.tensor(X_labeled_validation, dtype=torch.float32)\n",
    "y_val = torch.tensor(y_labeled_validation, dtype=torch.float32)\n",
    "\n",
    "# Create TensorDataset\n",
    "train_dataset = TensorDataset(X_train, y_train)\n",
    "val_dataset = TensorDataset(X_val, y_val)\n",
    "\n",
    "# Create DataLoader\n",
    "train_loader = DataLoader(train_dataset, batch_size=2, shuffle=True)\n",
    "val_loader = DataLoader(val_dataset, batch_size=2, shuffle=False)\n",
    "\n",
    "# Define loss function and optimizer\n",
    "criterion = nn.CrossEntropyLoss()\n",
    "optimizer = optim.Adam(model.parameters(), lr=0.001)\n",
    "\n",
    "# Initialize lists to store loss and validation loss\n",
    "train_losses2 = []\n",
    "val_losses2 = []\n",
    "\n",
    "# Training loop\n",
    "num_epochs = 100\n",
    "for epoch in range(num_epochs):\n",
    "    train_loss = 0.0\n",
    "    for inputs, labels in train_loader:\n",
    "        # Zero the parameter gradients\n",
    "        optimizer.zero_grad()\n",
    "\n",
    "        # Forward pass\n",
    "        outputs = model(inputs)\n",
    "        loss = criterion(outputs, labels)\n",
    "        train_loss += loss.item()\n",
    "\n",
    "        # Backward pass and optimize\n",
    "        loss.backward()\n",
    "        optimizer.step()\n",
    "        \n",
    "    train_loss /= len(train_loader)\n",
    "    train_losses2.append(train_loss)\n",
    "\n",
    "    # Validation loop\n",
    "    model.eval()\n",
    "    val_loss = 0.0\n",
    "    with torch.no_grad():\n",
    "        for inputs, labels in val_loader:\n",
    "            outputs = model(inputs)\n",
    "            loss = criterion(outputs, labels)\n",
    "            val_loss += loss.item()\n",
    "\n",
    "    val_loss /= len(val_loader)\n",
    "    val_losses2.append(val_loss)\n",
    "    print(f'Epoch [{epoch+1}/{num_epochs}], Loss: {loss.item():.4f}, Val Loss: {val_loss:.4f}')\n",
    "\n",
    "print(\"Training complete!\")"
   ]
  },
  {
   "cell_type": "code",
   "execution_count": null,
   "id": "30db6b8a",
   "metadata": {},
   "outputs": [],
   "source": [
    "# Plot the training and validation loss\n",
    "plt.figure(figsize=(10, 5))\n",
    "plt.plot(range(1, num_epochs + 1), train_losses2, label='Training Loss')\n",
    "plt.plot(range(1, num_epochs + 1), val_losses2, label='Validation Loss')\n",
    "plt.xlabel('Epochs')\n",
    "plt.ylabel('Loss')\n",
    "plt.title('Training and Validation Loss')\n",
    "plt.legend()\n",
    "plt.show()"
   ]
  },
  {
   "cell_type": "code",
   "execution_count": null,
   "id": "f60b8f77",
   "metadata": {},
   "outputs": [],
   "source": [
    "# Ensure model is in evaluation mode\n",
    "model.eval()\n",
    "\n",
    "# Convert validation data to PyTorch tensor\n",
    "X_val = torch.tensor(X_labeled_validation, dtype=torch.float32)\n",
    "\n",
    "# Get raw logits from the model\n",
    "y_pred_logits = model(X_val)\n",
    "\n",
    "# Apply softmax to convert logits to probabilities\n",
    "y_pred_probs = F.softmax(y_pred_logits, dim=1)\n",
    "\n",
    "# Get the predicted classes (index of the max probability)\n",
    "y_pred_classes = torch.argmax(y_pred_probs, dim=1).numpy()\n",
    "\n",
    "# Get ground truth labels (convert to class indices if needed)\n",
    "y_true = y_labeled_validation\n",
    "if len(y_true.shape) > 1 and y_true.shape[1] > 1:  # Check if y_true is one-hot encoded\n",
    "    y_true = np.argmax(y_true, axis=1)\n",
    "\n",
    "# Compute confusion matrix\n",
    "conf_matrix = confusion_matrix(y_true, y_pred_classes)\n",
    "\n",
    "# Visualize the confusion matrix using seaborn\n",
    "plt.figure(figsize=(10, 8))\n",
    "sns.heatmap(conf_matrix, annot=True, fmt='d', cmap='Blues', xticklabels=range(conf_matrix.shape[1]), \n",
    "            yticklabels=range(conf_matrix.shape[0]))\n",
    "plt.xlabel('Predicted')\n",
    "plt.ylabel('True')\n",
    "plt.title('Confusion Matrix')\n",
    "plt.show()\n",
    "\n",
    "# Print classification report\n",
    "print(classification_report(y_true, y_pred_classes))\n"
   ]
  },
  {
   "cell_type": "markdown",
   "id": "788bf88e",
   "metadata": {},
   "source": [
    "# Itteratie 5"
   ]
  },
  {
   "cell_type": "markdown",
   "id": "745202d7",
   "metadata": {},
   "source": [
    "Evalueer het aantal epochs op het pytorch model."
   ]
  },
  {
   "cell_type": "markdown",
   "id": "5e1b769f",
   "metadata": {},
   "source": [
    "# Conclusie"
   ]
  },
  {
   "cell_type": "markdown",
   "id": "76eb4900",
   "metadata": {},
   "source": [
    "Evaluate on the metrics."
   ]
  },
  {
   "cell_type": "markdown",
   "id": "37398f01",
   "metadata": {},
   "source": [
    "Compare final result to the null model."
   ]
  },
  {
   "cell_type": "markdown",
   "id": "4dab8d11",
   "metadata": {},
   "source": [
    "Evaluate final model on the metrics (cross entropy or something)."
   ]
  },
  {
   "cell_type": "markdown",
   "id": "5017415d",
   "metadata": {},
   "source": [
    "Manualy grade the results of the image classification."
   ]
  }
 ],
 "metadata": {
  "kernelspec": {
   "display_name": ".venv",
   "language": "python",
   "name": "python3"
  },
  "language_info": {
   "codemirror_mode": {
    "name": "ipython",
    "version": 3
   },
   "file_extension": ".py",
   "mimetype": "text/x-python",
   "name": "python",
   "nbconvert_exporter": "python",
   "pygments_lexer": "ipython3",
   "version": "3.12.1"
  },
  "toc": {
   "base_numbering": 1,
   "nav_menu": {},
   "number_sections": false,
   "sideBar": true,
   "skip_h1_title": true,
   "title_cell": "Table of Contents",
   "title_sidebar": "Contents",
   "toc_cell": false,
   "toc_position": {},
   "toc_section_display": true,
   "toc_window_display": false
  },
  "varInspector": {
   "cols": {
    "lenName": 16,
    "lenType": 16,
    "lenVar": 40
   },
   "kernels_config": {
    "python": {
     "delete_cmd_postfix": "",
     "delete_cmd_prefix": "del ",
     "library": "var_list.py",
     "varRefreshCmd": "print(var_dic_list())"
    },
    "r": {
     "delete_cmd_postfix": ") ",
     "delete_cmd_prefix": "rm(",
     "library": "var_list.r",
     "varRefreshCmd": "cat(var_dic_list()) "
    }
   },
   "types_to_exclude": [
    "module",
    "function",
    "builtin_function_or_method",
    "instance",
    "_Feature"
   ],
   "window_display": false
  }
 },
 "nbformat": 4,
 "nbformat_minor": 5
}
