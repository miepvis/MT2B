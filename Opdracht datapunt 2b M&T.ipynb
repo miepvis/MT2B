{
 "cells": [
  {
   "cell_type": "markdown",
   "id": "dc312d70",
   "metadata": {},
   "source": [
    "# Methoden en Technieken -- Blok 2\n",
    "\n",
    "## Datapunt Opdracht\n",
    "\n",
    "In deze opdracht worden de volgende leeruitkomsten getoetst, relevante termen zijn **dik** gedrukt:\n",
    "- B2: Je stelt op basis van requirements een **geschikte architectuur** voor een AI-oplossing op en selecteert daarvoor passende AI-technieken, gebruik makend van **machine learning**, **deep learning**, **kennisrepresentatie**, **computer vision** en natural language processing.\n",
    "- B3: Je prepareert een dataset voor het **trainen en testen** van een AI-model rekening houdend met technische en ethische randvoorwaarden.\n",
    "- B4: **Je ontwikkelt, traint en evalueert een AI-model** volgens een **iteratief proces**.\n",
    "- C2: **Je evalueert en beoordeelt de kwaliteit van een AI-model aan de hand van kwaliteitscriteria** die in het vakgebied erkend worden waaronder robustness, **performance**, scalability, explainability, model complexity en resource demand.\n",
    "\n",
    "## De opdracht\n",
    "\n",
    "In de slides van les 12 word beschreven hoe we een Deep Belief Netwerk unsupervised trainen op de MNIST data. \n",
    "\n",
    "In deze opdracht gaan we dit gebruiken om een MNIST classifier semi-supervised te trainen. We doen hier alsof slechts 500 van de 70000 MNIST afbeeldingen gelabeld zijn (zie code hieronder, deze maakt de data aan die je mag gebruiken). Je zult dus:\n",
    "- Een DBN unsupervised trainen op de data\n",
    "- Een classifier trainen op de latent space van de DBN en de gelabelde data\n",
    "\n",
    "Je mag zelf kiezen:\n",
    "- De architectuur van de DBN (let op, deze zal wat tijd kosten om te trainen)\n",
    "- De classifier op de latent space (alles is toegestaan)\n",
    "- Hoe je de modellen beoordeelt\n",
    "\n",
    "Probeer een zo'n goed mogelijk model te krijgen (in een redelijke tijd), verantwoord je keuzes. Bespreek je uiteindelijke model in detail, eerdere pogingen/modellen mogen korter besproken worden.\n"
   ]
  },
  {
   "cell_type": "code",
   "execution_count": 1,
   "id": "61a81390",
   "metadata": {},
   "outputs": [],
   "source": [
    "import numpy as np\n",
    "import matplotlib.pyplot as plt\n",
    "import pickle\n",
    "from tensorflow import keras\n",
    "from sklearn.model_selection import train_test_split \n",
    "from sklearn.neural_network import BernoulliRBM\n",
    "from ipywidgets import interactive\n",
    "import torch\n",
    "import torch.nn as nn\n",
    "from sklearn.metrics import classification_report, confusion_matrix\n",
    "import seaborn as sns\n",
    "import torch.nn.functional as F\n"
   ]
  },
  {
   "cell_type": "code",
   "execution_count": 2,
   "id": "27eac8b4",
   "metadata": {},
   "outputs": [],
   "source": [
    "(x1, y), (x2, _) = keras.datasets.mnist.load_data()\n",
    "x = np.concatenate((x1, x2))\n",
    "\n",
    "x = np.expand_dims(x, -1).astype(\"float32\") / 255\n",
    "\n",
    "y = y[:500]\n",
    "\n",
    "del x1, x2"
   ]
  },
  {
   "cell_type": "code",
   "execution_count": 3,
   "id": "16e61f29",
   "metadata": {},
   "outputs": [],
   "source": [
    "# Select the first 500 labels as labeled data\n",
    "labeled_x = x[:500]\n",
    "labeled_y = y[:500]\n",
    "\n",
    "# The rest are unlabeled data\n",
    "unlabeled_x = x[500:]"
   ]
  },
  {
   "cell_type": "markdown",
   "id": "e66b82f3",
   "metadata": {},
   "source": [
    "Split it by catagory and not random. (stratisfied split)"
   ]
  },
  {
   "cell_type": "code",
   "execution_count": 4,
   "id": "3973dcd9",
   "metadata": {},
   "outputs": [],
   "source": [
    "X_labeled_train, x_labeled_remaining, y_labeled_train,  y_labeled_remaining = train_test_split(labeled_x, labeled_y, test_size=0.3, random_state = 42)\n",
    "X_labeled_validation, X_labeled_test,y_labeled_validation,  y_test = train_test_split(x_labeled_remaining, y_labeled_remaining, test_size=0.5, random_state = 42)\n",
    "y_labeled_train = keras.utils.to_categorical(y_labeled_train, 10)\n",
    "y_labeled_validation = keras.utils.to_categorical(y_labeled_validation, 10)\n",
    "y_labeled_test = keras.utils.to_categorical(y_test, 10)"
   ]
  },
  {
   "cell_type": "code",
   "execution_count": 5,
   "id": "022a1058",
   "metadata": {},
   "outputs": [
    {
     "name": "stdout",
     "output_type": "stream",
     "text": [
      "(350, 28, 28, 1)\n"
     ]
    }
   ],
   "source": [
    "print(X_labeled_train.shape)"
   ]
  },
  {
   "cell_type": "code",
   "execution_count": 6,
   "id": "78a37cde",
   "metadata": {},
   "outputs": [],
   "source": [
    "unlabeled_x = unlabeled_x.reshape(len(unlabeled_x), -1)\n",
    "X_labeled_train = X_labeled_train.reshape(len(X_labeled_train), -1)\n",
    "X_labeled_validation = X_labeled_validation.reshape(len(X_labeled_validation), -1)\n",
    "X_labeled_test = X_labeled_test.reshape(len(X_labeled_test), -1)"
   ]
  },
  {
   "cell_type": "code",
   "execution_count": 7,
   "id": "aefe677d",
   "metadata": {},
   "outputs": [
    {
     "name": "stdout",
     "output_type": "stream",
     "text": [
      "(350, 784)\n"
     ]
    }
   ],
   "source": [
    "print(X_labeled_train.shape)"
   ]
  },
  {
   "cell_type": "markdown",
   "id": "68d61ff7",
   "metadata": {},
   "source": [
    "Add null model"
   ]
  },
  {
   "cell_type": "markdown",
   "id": "af38faa2",
   "metadata": {},
   "source": [
    "Do minimum size model: something like: random, 10"
   ]
  },
  {
   "cell_type": "code",
   "execution_count": 8,
   "id": "f1a0273b",
   "metadata": {},
   "outputs": [],
   "source": [
    "hidden_sizes = [364, 91, 45, 10]"
   ]
  },
  {
   "cell_type": "code",
   "execution_count": 15,
   "id": "329c1ae1",
   "metadata": {},
   "outputs": [
    {
     "name": "stdout",
     "output_type": "stream",
     "text": [
      "[BernoulliRBM] Iteration 1, pseudo-likelihood = -200.78, time = 2.28s\n",
      "[BernoulliRBM] Iteration 2, pseudo-likelihood = -200.09, time = 2.39s\n",
      "[BernoulliRBM] Iteration 3, pseudo-likelihood = -199.90, time = 2.42s\n",
      "[BernoulliRBM] Iteration 4, pseudo-likelihood = -199.90, time = 2.35s\n",
      "[BernoulliRBM] Iteration 5, pseudo-likelihood = -199.89, time = 2.41s\n",
      "[BernoulliRBM] Iteration 6, pseudo-likelihood = -199.88, time = 2.42s\n",
      "[BernoulliRBM] Iteration 7, pseudo-likelihood = -199.77, time = 2.36s\n",
      "[BernoulliRBM] Iteration 8, pseudo-likelihood = -199.74, time = 2.35s\n",
      "[BernoulliRBM] Iteration 9, pseudo-likelihood = -199.81, time = 2.40s\n",
      "[BernoulliRBM] Iteration 10, pseudo-likelihood = -199.74, time = 2.40s\n",
      "[BernoulliRBM] Iteration 11, pseudo-likelihood = -199.79, time = 2.41s\n",
      "[BernoulliRBM] Iteration 12, pseudo-likelihood = -199.77, time = 2.41s\n",
      "[BernoulliRBM] Iteration 13, pseudo-likelihood = -199.87, time = 2.41s\n",
      "[BernoulliRBM] Iteration 14, pseudo-likelihood = -199.79, time = 2.37s\n",
      "[BernoulliRBM] Iteration 15, pseudo-likelihood = -199.71, time = 2.31s\n",
      "[BernoulliRBM] Iteration 16, pseudo-likelihood = -199.74, time = 2.35s\n",
      "[BernoulliRBM] Iteration 17, pseudo-likelihood = -199.93, time = 2.39s\n",
      "[BernoulliRBM] Iteration 18, pseudo-likelihood = -199.73, time = 2.41s\n",
      "[BernoulliRBM] Iteration 19, pseudo-likelihood = -199.63, time = 2.41s\n",
      "[BernoulliRBM] Iteration 20, pseudo-likelihood = -199.78, time = 2.42s\n",
      "[BernoulliRBM] Iteration 21, pseudo-likelihood = -199.57, time = 2.41s\n",
      "[BernoulliRBM] Iteration 22, pseudo-likelihood = -199.76, time = 2.41s\n",
      "[BernoulliRBM] Iteration 23, pseudo-likelihood = -199.76, time = 2.43s\n",
      "[BernoulliRBM] Iteration 24, pseudo-likelihood = -199.74, time = 2.41s\n",
      "[BernoulliRBM] Iteration 25, pseudo-likelihood = -199.77, time = 2.42s\n",
      "[BernoulliRBM] Iteration 26, pseudo-likelihood = -199.62, time = 2.40s\n",
      "[BernoulliRBM] Iteration 27, pseudo-likelihood = -199.83, time = 2.39s\n",
      "[BernoulliRBM] Iteration 28, pseudo-likelihood = -199.77, time = 2.36s\n",
      "[BernoulliRBM] Iteration 29, pseudo-likelihood = -199.75, time = 2.35s\n",
      "[BernoulliRBM] Iteration 30, pseudo-likelihood = -199.70, time = 2.33s\n",
      "[BernoulliRBM] Iteration 31, pseudo-likelihood = -199.79, time = 2.34s\n",
      "[BernoulliRBM] Iteration 32, pseudo-likelihood = -199.71, time = 2.37s\n",
      "[BernoulliRBM] Iteration 33, pseudo-likelihood = -199.66, time = 2.38s\n",
      "[BernoulliRBM] Iteration 34, pseudo-likelihood = -199.79, time = 2.42s\n",
      "[BernoulliRBM] Iteration 35, pseudo-likelihood = -199.79, time = 2.40s\n",
      "[BernoulliRBM] Iteration 36, pseudo-likelihood = -199.76, time = 2.40s\n",
      "[BernoulliRBM] Iteration 37, pseudo-likelihood = -199.84, time = 2.44s\n",
      "[BernoulliRBM] Iteration 38, pseudo-likelihood = -199.73, time = 2.43s\n",
      "[BernoulliRBM] Iteration 39, pseudo-likelihood = -199.75, time = 2.42s\n",
      "[BernoulliRBM] Iteration 40, pseudo-likelihood = -199.69, time = 2.44s\n",
      "[BernoulliRBM] Iteration 41, pseudo-likelihood = -199.78, time = 2.43s\n",
      "[BernoulliRBM] Iteration 42, pseudo-likelihood = -199.68, time = 2.42s\n",
      "[BernoulliRBM] Iteration 43, pseudo-likelihood = -199.68, time = 2.42s\n",
      "[BernoulliRBM] Iteration 44, pseudo-likelihood = -199.67, time = 2.42s\n",
      "[BernoulliRBM] Iteration 45, pseudo-likelihood = -199.71, time = 2.43s\n",
      "[BernoulliRBM] Iteration 46, pseudo-likelihood = -199.81, time = 2.43s\n",
      "[BernoulliRBM] Iteration 47, pseudo-likelihood = -199.74, time = 2.42s\n",
      "[BernoulliRBM] Iteration 48, pseudo-likelihood = -199.73, time = 2.41s\n",
      "[BernoulliRBM] Iteration 49, pseudo-likelihood = -199.68, time = 2.40s\n",
      "[BernoulliRBM] Iteration 50, pseudo-likelihood = -199.70, time = 2.41s\n",
      "[BernoulliRBM] Iteration 51, pseudo-likelihood = -199.72, time = 2.40s\n",
      "[BernoulliRBM] Iteration 52, pseudo-likelihood = -199.67, time = 2.40s\n",
      "[BernoulliRBM] Iteration 53, pseudo-likelihood = -199.65, time = 2.39s\n",
      "[BernoulliRBM] Iteration 54, pseudo-likelihood = -199.78, time = 2.37s\n",
      "[BernoulliRBM] Iteration 55, pseudo-likelihood = -199.67, time = 2.36s\n",
      "[BernoulliRBM] Iteration 56, pseudo-likelihood = -199.73, time = 2.35s\n",
      "[BernoulliRBM] Iteration 57, pseudo-likelihood = -199.70, time = 2.34s\n",
      "[BernoulliRBM] Iteration 58, pseudo-likelihood = -199.69, time = 2.34s\n",
      "[BernoulliRBM] Iteration 59, pseudo-likelihood = -199.74, time = 2.34s\n",
      "[BernoulliRBM] Iteration 60, pseudo-likelihood = -199.78, time = 2.34s\n",
      "[BernoulliRBM] Iteration 61, pseudo-likelihood = -199.73, time = 2.36s\n",
      "[BernoulliRBM] Iteration 62, pseudo-likelihood = -199.83, time = 2.36s\n",
      "[BernoulliRBM] Iteration 63, pseudo-likelihood = -199.93, time = 2.36s\n",
      "[BernoulliRBM] Iteration 64, pseudo-likelihood = -199.67, time = 2.37s\n",
      "[BernoulliRBM] Iteration 65, pseudo-likelihood = -199.83, time = 2.38s\n",
      "[BernoulliRBM] Iteration 66, pseudo-likelihood = -199.71, time = 2.39s\n",
      "[BernoulliRBM] Iteration 67, pseudo-likelihood = -199.74, time = 2.39s\n",
      "[BernoulliRBM] Iteration 68, pseudo-likelihood = -199.78, time = 2.39s\n",
      "[BernoulliRBM] Iteration 69, pseudo-likelihood = -199.87, time = 2.40s\n",
      "[BernoulliRBM] Iteration 70, pseudo-likelihood = -199.75, time = 2.40s\n",
      "[BernoulliRBM] Iteration 71, pseudo-likelihood = -199.76, time = 2.40s\n",
      "[BernoulliRBM] Iteration 72, pseudo-likelihood = -199.70, time = 2.42s\n",
      "[BernoulliRBM] Iteration 73, pseudo-likelihood = -199.69, time = 2.41s\n",
      "[BernoulliRBM] Iteration 74, pseudo-likelihood = -199.68, time = 2.42s\n",
      "[BernoulliRBM] Iteration 75, pseudo-likelihood = -199.73, time = 2.43s\n",
      "[BernoulliRBM] Iteration 76, pseudo-likelihood = -199.76, time = 2.43s\n",
      "[BernoulliRBM] Iteration 77, pseudo-likelihood = -199.60, time = 2.43s\n",
      "[BernoulliRBM] Iteration 78, pseudo-likelihood = -199.65, time = 2.43s\n",
      "[BernoulliRBM] Iteration 79, pseudo-likelihood = -199.74, time = 2.42s\n",
      "[BernoulliRBM] Iteration 80, pseudo-likelihood = -199.80, time = 2.41s\n",
      "[BernoulliRBM] Iteration 81, pseudo-likelihood = -199.84, time = 2.43s\n",
      "[BernoulliRBM] Iteration 82, pseudo-likelihood = -199.78, time = 2.42s\n",
      "[BernoulliRBM] Iteration 83, pseudo-likelihood = -199.70, time = 2.42s\n",
      "[BernoulliRBM] Iteration 84, pseudo-likelihood = -199.65, time = 2.41s\n",
      "[BernoulliRBM] Iteration 85, pseudo-likelihood = -199.75, time = 2.41s\n",
      "[BernoulliRBM] Iteration 86, pseudo-likelihood = -199.70, time = 2.41s\n",
      "[BernoulliRBM] Iteration 87, pseudo-likelihood = -199.87, time = 2.42s\n",
      "[BernoulliRBM] Iteration 88, pseudo-likelihood = -199.75, time = 2.39s\n",
      "[BernoulliRBM] Iteration 89, pseudo-likelihood = -199.75, time = 2.40s\n",
      "[BernoulliRBM] Iteration 90, pseudo-likelihood = -199.86, time = 2.40s\n",
      "[BernoulliRBM] Iteration 91, pseudo-likelihood = -199.81, time = 2.42s\n",
      "[BernoulliRBM] Iteration 92, pseudo-likelihood = -199.81, time = 2.41s\n",
      "[BernoulliRBM] Iteration 93, pseudo-likelihood = -199.86, time = 2.41s\n",
      "[BernoulliRBM] Iteration 94, pseudo-likelihood = -199.73, time = 2.41s\n",
      "[BernoulliRBM] Iteration 95, pseudo-likelihood = -199.73, time = 2.41s\n",
      "[BernoulliRBM] Iteration 96, pseudo-likelihood = -199.76, time = 2.40s\n",
      "[BernoulliRBM] Iteration 97, pseudo-likelihood = -199.69, time = 2.41s\n",
      "[BernoulliRBM] Iteration 98, pseudo-likelihood = -199.82, time = 2.41s\n",
      "[BernoulliRBM] Iteration 99, pseudo-likelihood = -199.71, time = 2.41s\n",
      "[BernoulliRBM] Iteration 100, pseudo-likelihood = -199.81, time = 2.41s\n",
      "Model (size = 10) done!\n"
     ]
    }
   ],
   "source": [
    "inp = unlabeled_x\n",
    "RBMs = []\n",
    "for size in hidden_sizes:\n",
    "    rbm = BernoulliRBM(size, learning_rate = 0.2, batch_size = 500, n_iter = 100, random_state = 42, verbose=1)    \n",
    "    # rbm = BernoulliRBM(size, learning_rate = 0.2, batch_size = 500, n_iter = 1, random_state = 42, verbose=1)\n",
    "    inp = rbm.fit_transform(inp)\n",
    "    RBMs.append(rbm)\n",
    "    print(f'Model (size = {size}) done!')"
   ]
  },
  {
   "cell_type": "code",
   "execution_count": 9,
   "id": "76745b72",
   "metadata": {},
   "outputs": [],
   "source": [
    "def sample(rbms, rng, ngibbs=20):\n",
    "\n",
    "    # Perform Gibbs sampling with the last RBM\n",
    "    v = rng.binomial(1, 0.2, size=hidden_sizes[-2])\n",
    "    for i in range(ngibbs):\n",
    "        v = rbms[-1].gibbs(v)\n",
    "\n",
    "    # Perform ancestral sampling for the other layers\n",
    "    for i in range(len(rbms)-2, -1, -1):\n",
    "        v = rbms[i]._sample_visibles(v, rng)\n",
    "    \n",
    "    return v"
   ]
  },
  {
   "cell_type": "markdown",
   "id": "a77e5e0a",
   "metadata": {},
   "source": [
    "RBM inner representatation of the number."
   ]
  },
  {
   "cell_type": "code",
   "execution_count": 15,
   "id": "f7008346",
   "metadata": {},
   "outputs": [
    {
     "data": {
      "application/vnd.jupyter.widget-view+json": {
       "model_id": "2e4ad7626d12462981870ce58b0cf0f8",
       "version_major": 2,
       "version_minor": 0
      },
      "text/plain": [
       "interactive(children=(IntSlider(value=5, description='seed', max=10), Output()), _dom_classes=('widget-interac…"
      ]
     },
     "execution_count": 15,
     "metadata": {},
     "output_type": "execute_result"
    }
   ],
   "source": [
    "def makeplot(seed):\n",
    "    rng = np.random.RandomState(seed)\n",
    "\n",
    "    plt.figure(figsize=(50,20))\n",
    "    for i in range(10):\n",
    "        plt.subplot(2,5,i+1)\n",
    "        plt.imshow(sample(RBMs, rng).reshape(28,28), cmap='gray')\n",
    "        plt.axis('off')\n",
    "    plt.show()\n",
    "\n",
    "interactive(makeplot, seed=(0,10))\n",
    "        "
   ]
  },
  {
   "cell_type": "markdown",
   "id": "2e9cd915",
   "metadata": {},
   "source": [
    "How good the model is at recognising the numbers."
   ]
  },
  {
   "cell_type": "code",
   "execution_count": 14,
   "id": "916b19ee",
   "metadata": {},
   "outputs": [
    {
     "data": {
      "application/vnd.jupyter.widget-view+json": {
       "model_id": "097cd71efbba4041b5ac2983beced722",
       "version_major": 2,
       "version_minor": 0
      },
      "text/plain": [
       "interactive(children=(IntSlider(value=10, description='n', max=20), IntSlider(value=10, description='seed', ma…"
      ]
     },
     "execution_count": 14,
     "metadata": {},
     "output_type": "execute_result"
    }
   ],
   "source": [
    "def makeplot2(n, seed):\n",
    "    rng = np.random.RandomState(seed)\n",
    "    img = X_labeled_train[n]\n",
    "    plt.figure(figsize = (50,20))\n",
    "    plt.subplot(2,5,1)\n",
    "    plt.imshow(img.reshape(28,28), cmap='gray')\n",
    "    plt.axis('off')\n",
    "    for i in range(9):\n",
    "        x = img.reshape(1,-1)\n",
    "        for rbm in RBMs:\n",
    "            x = rbm._sample_hiddens(x,rng)\n",
    "        for rbm in reversed(RBMs):\n",
    "            x = rbm._sample_visibles(x,rng)\n",
    "        plt.subplot(2,5,i+2)\n",
    "        plt.imshow(x.reshape(28,28), cmap='gray')\n",
    "        plt.axis('off')\n",
    "    plt.show()\n",
    "    \n",
    "interactive(makeplot2, n=(0,20), seed = (0,20))"
   ]
  },
  {
   "cell_type": "markdown",
   "id": "57d5b5aa",
   "metadata": {},
   "source": [
    "Evaluate on the epochs."
   ]
  },
  {
   "cell_type": "markdown",
   "id": "13b3c3a0",
   "metadata": {},
   "source": [
    "Evaluate on the evaluation metrics (probably just lookit at the images ;)."
   ]
  },
  {
   "cell_type": "code",
   "execution_count": 39,
   "id": "82ede17a",
   "metadata": {},
   "outputs": [],
   "source": [
    "with open('DBN_2B.pickle', 'wb') as file:\n",
    "    pickle.dump(RBMs, file)"
   ]
  },
  {
   "cell_type": "code",
   "execution_count": 13,
   "id": "5f401b28",
   "metadata": {},
   "outputs": [],
   "source": [
    "with open('DBN_2B.pickle', 'rb') as file:\n",
    "    RBMs = pickle.load(file)"
   ]
  },
  {
   "cell_type": "markdown",
   "id": "7ec04aaf",
   "metadata": {},
   "source": [
    "Add minimum size layers: 1, 10"
   ]
  },
  {
   "cell_type": "markdown",
   "id": "b5f6c3f7",
   "metadata": {},
   "source": [
    "Uitleggen waarom welke activatie functie gebruikt bij elke layer."
   ]
  },
  {
   "cell_type": "code",
   "execution_count": null,
   "id": "80f76b16",
   "metadata": {},
   "outputs": [
    {
     "name": "stdout",
     "output_type": "stream",
     "text": [
      "RBMPyTorchModel(\n",
      "  (rbm1): Linear(in_features=784, out_features=364, bias=True)\n",
      "  (rbm2): Linear(in_features=364, out_features=91, bias=True)\n",
      "  (rbm3): Linear(in_features=91, out_features=45, bias=True)\n",
      "  (rbm4): Linear(in_features=45, out_features=10, bias=True)\n",
      "  (fc1): Linear(in_features=10, out_features=10, bias=True)\n",
      "  (fc2): Linear(in_features=10, out_features=10, bias=True)\n",
      ")\n"
     ]
    }
   ],
   "source": [
    "# Define a PyTorch model\n",
    "class RBMPyTorchModel(nn.Module):\n",
    "    def __init__(self):\n",
    "        super(RBMPyTorchModel, self).__init__()\n",
    "        self.rbm1 = nn.Linear(784, 364, bias=True)\n",
    "        self.rbm2 = nn.Linear(364, 91, bias=True)\n",
    "        self.rbm3 = nn.Linear(91, 45, bias=True)\n",
    "        self.rbm4 = nn.Linear(45, 10, bias=True)\n",
    "        \n",
    "        self.fc1 = nn.Linear(10, 10)\n",
    "\n",
    "    def forward(self, x):\n",
    "        x = torch.sigmoid(self.rbm1(x))\n",
    "        x = torch.sigmoid(self.rbm2(x))\n",
    "        x = torch.sigmoid(self.rbm3(x))\n",
    "        x = torch.sigmoid(self.rbm4(x))\n",
    "        x = torch.relu(self.fc1(x))\n",
    "        return x\n",
    "\n",
    "# Create a PyTorch model\n",
    "model = RBMPyTorchModel()\n",
    "\n",
    "# Transfer parameters to PyTorch model\n",
    "with torch.no_grad():\n",
    "    model.rbm1.weight.copy_(torch.tensor(RBMs[0].components_.T.T))\n",
    "    model.rbm1.bias.copy_(torch.tensor(RBMs[0].intercept_hidden_))\n",
    "    \n",
    "    model.rbm2.weight.copy_(torch.tensor(RBMs[1].components_.T.T))\n",
    "    model.rbm2.bias.copy_(torch.tensor(RBMs[1].intercept_hidden_))\n",
    "    \n",
    "    model.rbm3.weight.copy_(torch.tensor(RBMs[2].components_.T.T))\n",
    "    model.rbm3.bias.copy_(torch.tensor(RBMs[2].intercept_hidden_))\n",
    "    \n",
    "    model.rbm4.weight.copy_(torch.tensor(RBMs[3].components_.T.T))\n",
    "    model.rbm4.bias.copy_(torch.tensor(RBMs[3].intercept_hidden_))\n",
    "\n",
    "# Freeze the first 3 layers\n",
    "for param in model.rbm1.parameters():\n",
    "    param.requires_grad = False\n",
    "for param in model.rbm2.parameters():\n",
    "    param.requires_grad = False\n",
    "for param in model.rbm3.parameters():\n",
    "    param.requires_grad = False\n",
    "for param in model.rbm4.parameters():\n",
    "    param.requires_grad = False\n",
    "    \n",
    "print(model)"
   ]
  },
  {
   "cell_type": "code",
   "execution_count": 17,
   "id": "c9db677b",
   "metadata": {},
   "outputs": [
    {
     "name": "stdout",
     "output_type": "stream",
     "text": [
      "Epoch [1/100], Loss: 2.3789, Val Loss: 2.2305\n",
      "Epoch [2/100], Loss: 2.2132, Val Loss: 2.1346\n",
      "Epoch [3/100], Loss: 2.1307, Val Loss: 2.0297\n",
      "Epoch [4/100], Loss: 2.0479, Val Loss: 1.9158\n",
      "Epoch [5/100], Loss: 1.9924, Val Loss: 1.7918\n",
      "Epoch [6/100], Loss: 1.8989, Val Loss: 1.6636\n",
      "Epoch [7/100], Loss: 1.7627, Val Loss: 1.5236\n",
      "Epoch [8/100], Loss: 1.6663, Val Loss: 1.3848\n",
      "Epoch [9/100], Loss: 1.6212, Val Loss: 1.2710\n",
      "Epoch [10/100], Loss: 1.5525, Val Loss: 1.1756\n",
      "Epoch [11/100], Loss: 1.6206, Val Loss: 1.1011\n",
      "Epoch [12/100], Loss: 1.5335, Val Loss: 1.0269\n",
      "Epoch [13/100], Loss: 1.4597, Val Loss: 0.9629\n",
      "Epoch [14/100], Loss: 1.5045, Val Loss: 0.9155\n",
      "Epoch [15/100], Loss: 1.4444, Val Loss: 0.8714\n",
      "Epoch [16/100], Loss: 1.5869, Val Loss: 0.8444\n",
      "Epoch [17/100], Loss: 1.5264, Val Loss: 0.8116\n",
      "Epoch [18/100], Loss: 1.6041, Val Loss: 0.7806\n",
      "Epoch [19/100], Loss: 1.5815, Val Loss: 0.7581\n",
      "Epoch [20/100], Loss: 1.3267, Val Loss: 0.7245\n",
      "Epoch [21/100], Loss: 1.4438, Val Loss: 0.7078\n",
      "Epoch [22/100], Loss: 1.4806, Val Loss: 0.6939\n",
      "Epoch [23/100], Loss: 1.5359, Val Loss: 0.6809\n",
      "Epoch [24/100], Loss: 1.5637, Val Loss: 0.6742\n",
      "Epoch [25/100], Loss: 1.3543, Val Loss: 0.6561\n",
      "Epoch [26/100], Loss: 1.4433, Val Loss: 0.6452\n",
      "Epoch [27/100], Loss: 1.5252, Val Loss: 0.6438\n",
      "Epoch [28/100], Loss: 1.5626, Val Loss: 0.6297\n",
      "Epoch [29/100], Loss: 1.5729, Val Loss: 0.6203\n",
      "Epoch [30/100], Loss: 1.5699, Val Loss: 0.6207\n",
      "Epoch [31/100], Loss: 1.4601, Val Loss: 0.6068\n",
      "Epoch [32/100], Loss: 1.6415, Val Loss: 0.6125\n",
      "Epoch [33/100], Loss: 1.5507, Val Loss: 0.5941\n",
      "Epoch [34/100], Loss: 1.4514, Val Loss: 0.5829\n",
      "Epoch [35/100], Loss: 1.4145, Val Loss: 0.5920\n",
      "Epoch [36/100], Loss: 1.4248, Val Loss: 0.5737\n",
      "Epoch [37/100], Loss: 1.6289, Val Loss: 0.5701\n",
      "Epoch [38/100], Loss: 1.6989, Val Loss: 0.5777\n",
      "Epoch [39/100], Loss: 1.6260, Val Loss: 0.5654\n",
      "Epoch [40/100], Loss: 1.4759, Val Loss: 0.5510\n",
      "Epoch [41/100], Loss: 1.5326, Val Loss: 0.5564\n",
      "Epoch [42/100], Loss: 1.5056, Val Loss: 0.5536\n",
      "Epoch [43/100], Loss: 1.4846, Val Loss: 0.5587\n",
      "Epoch [44/100], Loss: 1.7673, Val Loss: 0.5564\n",
      "Epoch [45/100], Loss: 1.6141, Val Loss: 0.5517\n",
      "Epoch [46/100], Loss: 1.5337, Val Loss: 0.5427\n",
      "Epoch [47/100], Loss: 1.6475, Val Loss: 0.5464\n",
      "Epoch [48/100], Loss: 1.6195, Val Loss: 0.5350\n",
      "Epoch [49/100], Loss: 1.6548, Val Loss: 0.5432\n",
      "Epoch [50/100], Loss: 1.4274, Val Loss: 0.5337\n",
      "Epoch [51/100], Loss: 1.6655, Val Loss: 0.5369\n",
      "Epoch [52/100], Loss: 1.7677, Val Loss: 0.5399\n",
      "Epoch [53/100], Loss: 1.6701, Val Loss: 0.5406\n",
      "Epoch [54/100], Loss: 1.6934, Val Loss: 0.5357\n",
      "Epoch [55/100], Loss: 1.8262, Val Loss: 0.5461\n",
      "Epoch [56/100], Loss: 1.5410, Val Loss: 0.5236\n",
      "Epoch [57/100], Loss: 1.5536, Val Loss: 0.5305\n",
      "Epoch [58/100], Loss: 1.7459, Val Loss: 0.5377\n",
      "Epoch [59/100], Loss: 1.5719, Val Loss: 0.5258\n",
      "Epoch [60/100], Loss: 1.7059, Val Loss: 0.5318\n",
      "Epoch [61/100], Loss: 1.6361, Val Loss: 0.5219\n",
      "Epoch [62/100], Loss: 1.5085, Val Loss: 0.5137\n",
      "Epoch [63/100], Loss: 1.6020, Val Loss: 0.5116\n",
      "Epoch [64/100], Loss: 1.6418, Val Loss: 0.5212\n",
      "Epoch [65/100], Loss: 1.4751, Val Loss: 0.5175\n",
      "Epoch [66/100], Loss: 1.6752, Val Loss: 0.5246\n",
      "Epoch [67/100], Loss: 1.7575, Val Loss: 0.5280\n",
      "Epoch [68/100], Loss: 1.3818, Val Loss: 0.5106\n",
      "Epoch [69/100], Loss: 1.4764, Val Loss: 0.5165\n",
      "Epoch [70/100], Loss: 1.5547, Val Loss: 0.5188\n",
      "Epoch [71/100], Loss: 1.7792, Val Loss: 0.5297\n",
      "Epoch [72/100], Loss: 1.7913, Val Loss: 0.5266\n",
      "Epoch [73/100], Loss: 1.8820, Val Loss: 0.5320\n",
      "Epoch [74/100], Loss: 1.6806, Val Loss: 0.5244\n",
      "Epoch [75/100], Loss: 1.6325, Val Loss: 0.5115\n",
      "Epoch [76/100], Loss: 1.6364, Val Loss: 0.5164\n",
      "Epoch [77/100], Loss: 1.9062, Val Loss: 0.5272\n",
      "Epoch [78/100], Loss: 1.7263, Val Loss: 0.5182\n",
      "Epoch [79/100], Loss: 1.7857, Val Loss: 0.5192\n",
      "Epoch [80/100], Loss: 1.8317, Val Loss: 0.5185\n",
      "Epoch [81/100], Loss: 1.7847, Val Loss: 0.5250\n",
      "Epoch [82/100], Loss: 1.8605, Val Loss: 0.5230\n",
      "Epoch [83/100], Loss: 1.6697, Val Loss: 0.5163\n",
      "Epoch [84/100], Loss: 1.6589, Val Loss: 0.5181\n",
      "Epoch [85/100], Loss: 1.6128, Val Loss: 0.5145\n",
      "Epoch [86/100], Loss: 1.5360, Val Loss: 0.5113\n",
      "Epoch [87/100], Loss: 1.7585, Val Loss: 0.5209\n",
      "Epoch [88/100], Loss: 1.6754, Val Loss: 0.5159\n",
      "Epoch [89/100], Loss: 1.7526, Val Loss: 0.5193\n",
      "Epoch [90/100], Loss: 1.6530, Val Loss: 0.5124\n",
      "Epoch [91/100], Loss: 1.6980, Val Loss: 0.5160\n",
      "Epoch [92/100], Loss: 1.5769, Val Loss: 0.5001\n",
      "Epoch [93/100], Loss: 1.8758, Val Loss: 0.5176\n",
      "Epoch [94/100], Loss: 1.7578, Val Loss: 0.5259\n",
      "Epoch [95/100], Loss: 1.8225, Val Loss: 0.5175\n",
      "Epoch [96/100], Loss: 1.7048, Val Loss: 0.5018\n",
      "Epoch [97/100], Loss: 1.8351, Val Loss: 0.5186\n",
      "Epoch [98/100], Loss: 1.7810, Val Loss: 0.5086\n",
      "Epoch [99/100], Loss: 1.5848, Val Loss: 0.5030\n",
      "Epoch [100/100], Loss: 1.6784, Val Loss: 0.5101\n",
      "Training complete!\n"
     ]
    }
   ],
   "source": [
    "import torch\n",
    "import torch.nn as nn\n",
    "import torch.optim as optim\n",
    "from torch.utils.data import DataLoader, TensorDataset\n",
    "\n",
    "# Define loss function and optimizer\n",
    "criterion = nn.CrossEntropyLoss()\n",
    "optimizer = optim.Adam(model.parameters(), lr=0.001)\n",
    "\n",
    "X_train = torch.tensor(X_labeled_train, dtype=torch.float32)\n",
    "y_train = torch.tensor(y_labeled_train, dtype=torch.float32)\n",
    "\n",
    "X_val = torch.tensor(X_labeled_validation, dtype=torch.float32)\n",
    "y_val = torch.tensor(y_labeled_validation, dtype=torch.float32)\n",
    "\n",
    "# Create TensorDataset\n",
    "train_dataset = TensorDataset(X_train, y_train)\n",
    "val_dataset = TensorDataset(X_val, y_val)\n",
    "\n",
    "# Create DataLoader\n",
    "train_loader = DataLoader(train_dataset, batch_size=2, shuffle=True)\n",
    "val_loader = DataLoader(val_dataset, batch_size=2, shuffle=False)\n",
    "\n",
    "# Define loss function and optimizer\n",
    "criterion = nn.CrossEntropyLoss()\n",
    "optimizer = optim.Adam(model.parameters(), lr=0.001)\n",
    "\n",
    "# Training loop\n",
    "num_epochs = 100\n",
    "for epoch in range(num_epochs):\n",
    "    for inputs, labels in train_loader:\n",
    "        # Zero the parameter gradients\n",
    "        optimizer.zero_grad()\n",
    "\n",
    "        # Forward pass\n",
    "        outputs = model(inputs)\n",
    "        loss = criterion(outputs, labels)\n",
    "\n",
    "        # Backward pass and optimize\n",
    "        loss.backward()\n",
    "        optimizer.step()\n",
    "\n",
    "    # Validation loop\n",
    "    model.eval()\n",
    "    val_loss = 0.0\n",
    "    with torch.no_grad():\n",
    "        for inputs, labels in val_loader:\n",
    "            outputs = model(inputs)\n",
    "            loss = criterion(outputs, labels)\n",
    "            val_loss += loss.item()\n",
    "\n",
    "    val_loss /= len(val_loader)\n",
    "    print(f'Epoch [{epoch+1}/{num_epochs}], Loss: {loss.item():.4f}, Val Loss: {val_loss:.4f}')\n",
    "\n",
    "print(\"Training complete!\")"
   ]
  },
  {
   "cell_type": "code",
   "execution_count": 46,
   "id": "744d2f85",
   "metadata": {},
   "outputs": [
    {
     "name": "stdout",
     "output_type": "stream",
     "text": [
      "Model saved!\n"
     ]
    }
   ],
   "source": [
    "# Save the model\n",
    "torch.save(model.state_dict(), 'model.pth')\n",
    "print(\"Model saved!\")"
   ]
  },
  {
   "cell_type": "code",
   "execution_count": 23,
   "id": "3cae104d",
   "metadata": {},
   "outputs": [
    {
     "name": "stdout",
     "output_type": "stream",
     "text": [
      "Model loaded!\n"
     ]
    },
    {
     "name": "stderr",
     "output_type": "stream",
     "text": [
      "C:\\Users\\jelma\\AppData\\Local\\Temp\\ipykernel_6444\\3057561021.py:3: FutureWarning: You are using `torch.load` with `weights_only=False` (the current default value), which uses the default pickle module implicitly. It is possible to construct malicious pickle data which will execute arbitrary code during unpickling (See https://github.com/pytorch/pytorch/blob/main/SECURITY.md#untrusted-models for more details). In a future release, the default value for `weights_only` will be flipped to `True`. This limits the functions that could be executed during unpickling. Arbitrary objects will no longer be allowed to be loaded via this mode unless they are explicitly allowlisted by the user via `torch.serialization.add_safe_globals`. We recommend you start setting `weights_only=True` for any use case where you don't have full control of the loaded file. Please open an issue on GitHub for any issues related to this experimental feature.\n",
      "  model.load_state_dict(torch.load('model.pth'))\n"
     ]
    }
   ],
   "source": [
    "# Load the model\n",
    "model = RBMPyTorchModel()  # Replace with your model class\n",
    "model.load_state_dict(torch.load('model.pth'))\n",
    "model.eval()  # Set the model to evaluation mode\n",
    "print(\"Model loaded!\")"
   ]
  },
  {
   "cell_type": "markdown",
   "id": "b2ef8e1b",
   "metadata": {},
   "source": [
    "Evaluate on the epochs."
   ]
  },
  {
   "cell_type": "markdown",
   "id": "bd9ee36a",
   "metadata": {},
   "source": [
    "Explain why the optimizer."
   ]
  },
  {
   "cell_type": "markdown",
   "id": "202de88e",
   "metadata": {},
   "source": [
    "Evaluate on learning rate."
   ]
  },
  {
   "cell_type": "code",
   "execution_count": 18,
   "id": "e8256a0d",
   "metadata": {},
   "outputs": [
    {
     "data": {
      "image/png": "[encoded data removed]",
      "text/plain": [
       "<Figure size 1000x800 with 2 Axes>"
      ]
     },
     "metadata": {},
     "output_type": "display_data"
    },
    {
     "name": "stdout",
     "output_type": "stream",
     "text": [
      "              precision    recall  f1-score   support\n",
      "\n",
      "           0       0.88      1.00      0.93         7\n",
      "           1       1.00      0.86      0.92         7\n",
      "           2       0.88      0.88      0.88         8\n",
      "           3       0.62      1.00      0.77         5\n",
      "           4       0.67      0.67      0.67         6\n",
      "           5       1.00      0.50      0.67         4\n",
      "           6       1.00      1.00      1.00         8\n",
      "           7       0.71      0.83      0.77        12\n",
      "           8       1.00      0.83      0.91         6\n",
      "           9       0.60      0.50      0.55        12\n",
      "\n",
      "    accuracy                           0.80        75\n",
      "   macro avg       0.84      0.81      0.81        75\n",
      "weighted avg       0.81      0.80      0.80        75\n",
      "\n"
     ]
    }
   ],
   "source": [
    "# Ensure model is in evaluation mode\n",
    "model.eval()\n",
    "\n",
    "# Convert validation data to PyTorch tensor\n",
    "X_val = torch.tensor(X_labeled_validation, dtype=torch.float32)\n",
    "\n",
    "# Get raw logits from the model\n",
    "y_pred_logits = model(X_val)\n",
    "\n",
    "# Apply softmax to convert logits to probabilities\n",
    "y_pred_probs = F.softmax(y_pred_logits, dim=1)\n",
    "\n",
    "# Get the predicted classes (index of the max probability)\n",
    "y_pred_classes = torch.argmax(y_pred_probs, dim=1).numpy()\n",
    "\n",
    "# Get ground truth labels (convert to class indices if needed)\n",
    "y_true = y_labeled_validation\n",
    "if len(y_true.shape) > 1 and y_true.shape[1] > 1:  # Check if y_true is one-hot encoded\n",
    "    y_true = np.argmax(y_true, axis=1)\n",
    "\n",
    "# Compute confusion matrix\n",
    "conf_matrix = confusion_matrix(y_true, y_pred_classes)\n",
    "\n",
    "# Visualize the confusion matrix using seaborn\n",
    "plt.figure(figsize=(10, 8))\n",
    "sns.heatmap(conf_matrix, annot=True, fmt='d', cmap='Blues', xticklabels=range(conf_matrix.shape[1]), \n",
    "            yticklabels=range(conf_matrix.shape[0]))\n",
    "plt.xlabel('Predicted')\n",
    "plt.ylabel('True')\n",
    "plt.title('Confusion Matrix')\n",
    "plt.show()\n",
    "\n",
    "# Print classification report\n",
    "print(classification_report(y_true, y_pred_classes))\n"
   ]
  },
  {
   "cell_type": "markdown",
   "id": "76eb4900",
   "metadata": {},
   "source": [
    "Evaluate on the metrics."
   ]
  },
  {
   "cell_type": "markdown",
   "id": "37398f01",
   "metadata": {},
   "source": [
    "Compare final result to the null model."
   ]
  },
  {
   "cell_type": "markdown",
   "id": "4dab8d11",
   "metadata": {},
   "source": [
    "Evaluate final model on the metrics (cross entropy or something)."
   ]
  },
  {
   "cell_type": "markdown",
   "id": "5017415d",
   "metadata": {},
   "source": [
    "Manualy grade the results of the image classification."
   ]
  }
 ],
 "metadata": {
  "kernelspec": {
   "display_name": ".venv",
   "language": "python",
   "name": "python3"
  },
  "language_info": {
   "codemirror_mode": {
    "name": "ipython",
    "version": 3
   },
   "file_extension": ".py",
   "mimetype": "text/x-python",
   "name": "python",
   "nbconvert_exporter": "python",
   "pygments_lexer": "ipython3",
   "version": "3.10.2"
  },
  "toc": {
   "base_numbering": 1,
   "nav_menu": {},
   "number_sections": false,
   "sideBar": true,
   "skip_h1_title": true,
   "title_cell": "Table of Contents",
   "title_sidebar": "Contents",
   "toc_cell": false,
   "toc_position": {},
   "toc_section_display": true,
   "toc_window_display": false
  },
  "varInspector": {
   "cols": {
    "lenName": 16,
    "lenType": 16,
    "lenVar": 40
   },
   "kernels_config": {
    "python": {
     "delete_cmd_postfix": "",
     "delete_cmd_prefix": "del ",
     "library": "var_list.py",
     "varRefreshCmd": "print(var_dic_list())"
    },
    "r": {
     "delete_cmd_postfix": ") ",
     "delete_cmd_prefix": "rm(",
     "library": "var_list.r",
     "varRefreshCmd": "cat(var_dic_list()) "
    }
   },
   "types_to_exclude": [
    "module",
    "function",
    "builtin_function_or_method",
    "instance",
    "_Feature"
   ],
   "window_display": false
  }
 },
 "nbformat": 4,
 "nbformat_minor": 5
}
